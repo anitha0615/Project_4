{
 "cells": [
  {
   "cell_type": "code",
   "execution_count": 1,
   "metadata": {},
   "outputs": [],
   "source": [
    "import pandas as pd\n",
    "import numpy as np\n",
    "from matplotlib import pyplot as plt\n",
    "import seaborn as sns\n",
    "from imblearn.over_sampling import SMOTE\n",
    "import sklearn\n",
    "from sklearn.model_selection import train_test_split\n",
    "from sklearn.preprocessing import StandardScaler\n",
    "from sklearn.preprocessing import MinMaxScaler\n",
    "from sklearn.ensemble import RandomForestClassifier\n",
    "from sklearn.tree import DecisionTreeRegressor\n",
    "from sklearn.metrics import accuracy_score, recall_score, precision_score\n",
    "from sklearn.metrics import confusion_matrix, plot_confusion_matrix\n"
   ]
  },
  {
   "cell_type": "code",
   "execution_count": 2,
   "metadata": {},
   "outputs": [],
   "source": [
    "csv_file_path = \"Resources/card_transdata.csv\"\n",
    "df = pd.read_csv(csv_file_path)"
   ]
  },
  {
   "cell_type": "code",
   "execution_count": 3,
   "metadata": {},
   "outputs": [
    {
     "data": {
      "text/plain": [
       "distance_from_home                0\n",
       "distance_from_last_transaction    0\n",
       "ratio_to_median_purchase_price    0\n",
       "repeat_retailer                   0\n",
       "used_chip                         0\n",
       "used_pin_number                   0\n",
       "online_order                      0\n",
       "fraud                             0\n",
       "dtype: int64"
      ]
     },
     "execution_count": 3,
     "metadata": {},
     "output_type": "execute_result"
    }
   ],
   "source": [
    "\n",
    "df.isnull().sum()"
   ]
  },
  {
   "cell_type": "code",
   "execution_count": 4,
   "metadata": {},
   "outputs": [
    {
     "name": "stdout",
     "output_type": "stream",
     "text": [
      "<class 'pandas.core.frame.DataFrame'>\n",
      "RangeIndex: 1000000 entries, 0 to 999999\n",
      "Data columns (total 8 columns):\n",
      " #   Column                          Non-Null Count    Dtype  \n",
      "---  ------                          --------------    -----  \n",
      " 0   distance_from_home              1000000 non-null  float64\n",
      " 1   distance_from_last_transaction  1000000 non-null  float64\n",
      " 2   ratio_to_median_purchase_price  1000000 non-null  float64\n",
      " 3   repeat_retailer                 1000000 non-null  float64\n",
      " 4   used_chip                       1000000 non-null  float64\n",
      " 5   used_pin_number                 1000000 non-null  float64\n",
      " 6   online_order                    1000000 non-null  float64\n",
      " 7   fraud                           1000000 non-null  float64\n",
      "dtypes: float64(8)\n",
      "memory usage: 61.0 MB\n"
     ]
    }
   ],
   "source": [
    "df.info()"
   ]
  },
  {
   "cell_type": "code",
   "execution_count": 5,
   "metadata": {},
   "outputs": [
    {
     "data": {
      "text/html": [
       "<div>\n",
       "<style scoped>\n",
       "    .dataframe tbody tr th:only-of-type {\n",
       "        vertical-align: middle;\n",
       "    }\n",
       "\n",
       "    .dataframe tbody tr th {\n",
       "        vertical-align: top;\n",
       "    }\n",
       "\n",
       "    .dataframe thead th {\n",
       "        text-align: right;\n",
       "    }\n",
       "</style>\n",
       "<table border=\"1\" class=\"dataframe\">\n",
       "  <thead>\n",
       "    <tr style=\"text-align: right;\">\n",
       "      <th></th>\n",
       "      <th>distance_from_home</th>\n",
       "      <th>distance_from_last_transaction</th>\n",
       "      <th>ratio_to_median_purchase_price</th>\n",
       "      <th>repeat_retailer</th>\n",
       "      <th>used_chip</th>\n",
       "      <th>used_pin_number</th>\n",
       "      <th>online_order</th>\n",
       "      <th>fraud</th>\n",
       "    </tr>\n",
       "  </thead>\n",
       "  <tbody>\n",
       "    <tr>\n",
       "      <th>count</th>\n",
       "      <td>1000000.000000</td>\n",
       "      <td>1000000.000000</td>\n",
       "      <td>1000000.000000</td>\n",
       "      <td>1000000.000000</td>\n",
       "      <td>1000000.000000</td>\n",
       "      <td>1000000.000000</td>\n",
       "      <td>1000000.000000</td>\n",
       "      <td>1000000.000000</td>\n",
       "    </tr>\n",
       "    <tr>\n",
       "      <th>mean</th>\n",
       "      <td>26.628792</td>\n",
       "      <td>5.036519</td>\n",
       "      <td>1.824182</td>\n",
       "      <td>0.881536</td>\n",
       "      <td>0.350399</td>\n",
       "      <td>0.100608</td>\n",
       "      <td>0.650552</td>\n",
       "      <td>0.087403</td>\n",
       "    </tr>\n",
       "    <tr>\n",
       "      <th>std</th>\n",
       "      <td>65.390784</td>\n",
       "      <td>25.843093</td>\n",
       "      <td>2.799589</td>\n",
       "      <td>0.323157</td>\n",
       "      <td>0.477095</td>\n",
       "      <td>0.300809</td>\n",
       "      <td>0.476796</td>\n",
       "      <td>0.282425</td>\n",
       "    </tr>\n",
       "    <tr>\n",
       "      <th>min</th>\n",
       "      <td>0.004874</td>\n",
       "      <td>0.000118</td>\n",
       "      <td>0.004399</td>\n",
       "      <td>0.000000</td>\n",
       "      <td>0.000000</td>\n",
       "      <td>0.000000</td>\n",
       "      <td>0.000000</td>\n",
       "      <td>0.000000</td>\n",
       "    </tr>\n",
       "    <tr>\n",
       "      <th>25%</th>\n",
       "      <td>3.878008</td>\n",
       "      <td>0.296671</td>\n",
       "      <td>0.475673</td>\n",
       "      <td>1.000000</td>\n",
       "      <td>0.000000</td>\n",
       "      <td>0.000000</td>\n",
       "      <td>0.000000</td>\n",
       "      <td>0.000000</td>\n",
       "    </tr>\n",
       "    <tr>\n",
       "      <th>50%</th>\n",
       "      <td>9.967760</td>\n",
       "      <td>0.998650</td>\n",
       "      <td>0.997717</td>\n",
       "      <td>1.000000</td>\n",
       "      <td>0.000000</td>\n",
       "      <td>0.000000</td>\n",
       "      <td>1.000000</td>\n",
       "      <td>0.000000</td>\n",
       "    </tr>\n",
       "    <tr>\n",
       "      <th>75%</th>\n",
       "      <td>25.743985</td>\n",
       "      <td>3.355748</td>\n",
       "      <td>2.096370</td>\n",
       "      <td>1.000000</td>\n",
       "      <td>1.000000</td>\n",
       "      <td>0.000000</td>\n",
       "      <td>1.000000</td>\n",
       "      <td>0.000000</td>\n",
       "    </tr>\n",
       "    <tr>\n",
       "      <th>max</th>\n",
       "      <td>10632.723672</td>\n",
       "      <td>11851.104565</td>\n",
       "      <td>267.802942</td>\n",
       "      <td>1.000000</td>\n",
       "      <td>1.000000</td>\n",
       "      <td>1.000000</td>\n",
       "      <td>1.000000</td>\n",
       "      <td>1.000000</td>\n",
       "    </tr>\n",
       "  </tbody>\n",
       "</table>\n",
       "</div>"
      ],
      "text/plain": [
       "       distance_from_home  distance_from_last_transaction   \n",
       "count      1000000.000000                  1000000.000000  \\\n",
       "mean            26.628792                        5.036519   \n",
       "std             65.390784                       25.843093   \n",
       "min              0.004874                        0.000118   \n",
       "25%              3.878008                        0.296671   \n",
       "50%              9.967760                        0.998650   \n",
       "75%             25.743985                        3.355748   \n",
       "max          10632.723672                    11851.104565   \n",
       "\n",
       "       ratio_to_median_purchase_price  repeat_retailer       used_chip   \n",
       "count                  1000000.000000   1000000.000000  1000000.000000  \\\n",
       "mean                         1.824182         0.881536        0.350399   \n",
       "std                          2.799589         0.323157        0.477095   \n",
       "min                          0.004399         0.000000        0.000000   \n",
       "25%                          0.475673         1.000000        0.000000   \n",
       "50%                          0.997717         1.000000        0.000000   \n",
       "75%                          2.096370         1.000000        1.000000   \n",
       "max                        267.802942         1.000000        1.000000   \n",
       "\n",
       "       used_pin_number    online_order           fraud  \n",
       "count   1000000.000000  1000000.000000  1000000.000000  \n",
       "mean          0.100608        0.650552        0.087403  \n",
       "std           0.300809        0.476796        0.282425  \n",
       "min           0.000000        0.000000        0.000000  \n",
       "25%           0.000000        0.000000        0.000000  \n",
       "50%           0.000000        1.000000        0.000000  \n",
       "75%           0.000000        1.000000        0.000000  \n",
       "max           1.000000        1.000000        1.000000  "
      ]
     },
     "execution_count": 5,
     "metadata": {},
     "output_type": "execute_result"
    }
   ],
   "source": [
    "df.describe()"
   ]
  },
  {
   "cell_type": "code",
   "execution_count": 6,
   "metadata": {},
   "outputs": [
    {
     "data": {
      "text/plain": [
       "Index(['distance_from_home', 'distance_from_last_transaction',\n",
       "       'ratio_to_median_purchase_price', 'repeat_retailer', 'used_chip',\n",
       "       'used_pin_number', 'online_order', 'fraud'],\n",
       "      dtype='object')"
      ]
     },
     "execution_count": 6,
     "metadata": {},
     "output_type": "execute_result"
    }
   ],
   "source": [
    "df.columns"
   ]
  },
  {
   "cell_type": "code",
   "execution_count": 7,
   "metadata": {},
   "outputs": [
    {
     "name": "stdout",
     "output_type": "stream",
     "text": [
      " Number of Fraud Cases: 87403\n"
     ]
    }
   ],
   "source": [
    "fraud_cases=len(df[df['fraud']==1])\n",
    "print(' Number of Fraud Cases:',fraud_cases)"
   ]
  },
  {
   "cell_type": "code",
   "execution_count": 8,
   "metadata": {},
   "outputs": [
    {
     "name": "stdout",
     "output_type": "stream",
     "text": [
      "Number of Non Fraud Cases: 912597\n"
     ]
    }
   ],
   "source": [
    "non_fraud_cases=len(df[df['fraud']==0])\n",
    "print('Number of Non Fraud Cases:',non_fraud_cases)"
   ]
  },
  {
   "cell_type": "code",
   "execution_count": 9,
   "metadata": {},
   "outputs": [],
   "source": [
    "fraud=df[df['fraud']==1]\n",
    "Nonfraud=df[df['fraud']==0]"
   ]
  },
  {
   "cell_type": "code",
   "execution_count": 10,
   "metadata": {},
   "outputs": [
    {
     "data": {
      "text/plain": [
       "<AxesSubplot:xlabel='fraud', ylabel='count'>"
      ]
     },
     "execution_count": 10,
     "metadata": {},
     "output_type": "execute_result"
    },
    {
     "data": {
      "image/png": "[encoded data removed]",
      "text/plain": [
       "<Figure size 640x480 with 1 Axes>"
      ]
     },
     "metadata": {},
     "output_type": "display_data"
    }
   ],
   "source": [
    "#Unbalanced Data\n",
    "sns.countplot(x='fraud',data=df)"
   ]
  },
  {
   "cell_type": "code",
   "execution_count": 11,
   "metadata": {},
   "outputs": [
    {
     "data": {
      "text/plain": [
       "fraud\n",
       "0.0    912597\n",
       "1.0    912597\n",
       "Name: count, dtype: int64"
      ]
     },
     "execution_count": 11,
     "metadata": {},
     "output_type": "execute_result"
    }
   ],
   "source": [
    "# Using SMOTE to address the issue of imbalance\n",
    "sm = SMOTE(sampling_strategy='minority', random_state=7)\n",
    "resampled_X, resampled_Y = sm.fit_resample(df.drop('fraud', axis=1), df['fraud'])\n",
    "oversampled_df = pd.concat([pd.DataFrame(resampled_X), pd.DataFrame(resampled_Y)], axis=1)\n",
    "oversampled_df.columns = df.columns\n",
    "oversampled_df['fraud'].value_counts()\n"
   ]
  },
  {
   "cell_type": "code",
   "execution_count": 12,
   "metadata": {},
   "outputs": [
    {
     "data": {
      "text/plain": [
       "fraud\n",
       "0.0    912597\n",
       "1.0     87403\n",
       "Name: count, dtype: int64"
      ]
     },
     "execution_count": 12,
     "metadata": {},
     "output_type": "execute_result"
    }
   ],
   "source": [
    "df['fraud'].value_counts()"
   ]
  },
  {
   "cell_type": "code",
   "execution_count": 13,
   "metadata": {},
   "outputs": [
    {
     "data": {
      "text/plain": [
       "<AxesSubplot:xlabel='fraud', ylabel='count'>"
      ]
     },
     "execution_count": 13,
     "metadata": {},
     "output_type": "execute_result"
    },
    {
     "data": {
      "image/png": "[encoded data removed]",
      "text/plain": [
       "<Figure size 640x480 with 1 Axes>"
      ]
     },
     "metadata": {},
     "output_type": "display_data"
    }
   ],
   "source": [
    "# Balanced Data\n",
    "sns.countplot(x='fraud', data=oversampled_df)"
   ]
  },
  {
   "cell_type": "code",
   "execution_count": 14,
   "metadata": {},
   "outputs": [
    {
     "data": {
      "text/html": [
       "<div>\n",
       "<style scoped>\n",
       "    .dataframe tbody tr th:only-of-type {\n",
       "        vertical-align: middle;\n",
       "    }\n",
       "\n",
       "    .dataframe tbody tr th {\n",
       "        vertical-align: top;\n",
       "    }\n",
       "\n",
       "    .dataframe thead th {\n",
       "        text-align: right;\n",
       "    }\n",
       "</style>\n",
       "<table border=\"1\" class=\"dataframe\">\n",
       "  <thead>\n",
       "    <tr style=\"text-align: right;\">\n",
       "      <th></th>\n",
       "      <th>distance_from_home</th>\n",
       "      <th>distance_from_last_transaction</th>\n",
       "      <th>ratio_to_median_purchase_price</th>\n",
       "      <th>repeat_retailer</th>\n",
       "      <th>used_chip</th>\n",
       "      <th>used_pin_number</th>\n",
       "      <th>online_order</th>\n",
       "      <th>fraud</th>\n",
       "    </tr>\n",
       "  </thead>\n",
       "  <tbody>\n",
       "    <tr>\n",
       "      <th>0</th>\n",
       "      <td>57.877857</td>\n",
       "      <td>0.311140</td>\n",
       "      <td>1.945940</td>\n",
       "      <td>1.000000</td>\n",
       "      <td>1.0</td>\n",
       "      <td>0.0</td>\n",
       "      <td>0.0</td>\n",
       "      <td>0.0</td>\n",
       "    </tr>\n",
       "    <tr>\n",
       "      <th>1</th>\n",
       "      <td>10.829943</td>\n",
       "      <td>0.175592</td>\n",
       "      <td>1.294219</td>\n",
       "      <td>1.000000</td>\n",
       "      <td>0.0</td>\n",
       "      <td>0.0</td>\n",
       "      <td>0.0</td>\n",
       "      <td>0.0</td>\n",
       "    </tr>\n",
       "    <tr>\n",
       "      <th>2</th>\n",
       "      <td>5.091079</td>\n",
       "      <td>0.805153</td>\n",
       "      <td>0.427715</td>\n",
       "      <td>1.000000</td>\n",
       "      <td>0.0</td>\n",
       "      <td>0.0</td>\n",
       "      <td>1.0</td>\n",
       "      <td>0.0</td>\n",
       "    </tr>\n",
       "    <tr>\n",
       "      <th>3</th>\n",
       "      <td>2.247564</td>\n",
       "      <td>5.600044</td>\n",
       "      <td>0.362663</td>\n",
       "      <td>1.000000</td>\n",
       "      <td>1.0</td>\n",
       "      <td>0.0</td>\n",
       "      <td>1.0</td>\n",
       "      <td>0.0</td>\n",
       "    </tr>\n",
       "    <tr>\n",
       "      <th>4</th>\n",
       "      <td>44.190936</td>\n",
       "      <td>0.566486</td>\n",
       "      <td>2.222767</td>\n",
       "      <td>1.000000</td>\n",
       "      <td>1.0</td>\n",
       "      <td>0.0</td>\n",
       "      <td>1.0</td>\n",
       "      <td>0.0</td>\n",
       "    </tr>\n",
       "    <tr>\n",
       "      <th>...</th>\n",
       "      <td>...</td>\n",
       "      <td>...</td>\n",
       "      <td>...</td>\n",
       "      <td>...</td>\n",
       "      <td>...</td>\n",
       "      <td>...</td>\n",
       "      <td>...</td>\n",
       "      <td>...</td>\n",
       "    </tr>\n",
       "    <tr>\n",
       "      <th>1825189</th>\n",
       "      <td>339.323378</td>\n",
       "      <td>61.110720</td>\n",
       "      <td>1.412187</td>\n",
       "      <td>1.000000</td>\n",
       "      <td>0.0</td>\n",
       "      <td>0.0</td>\n",
       "      <td>1.0</td>\n",
       "      <td>1.0</td>\n",
       "    </tr>\n",
       "    <tr>\n",
       "      <th>1825190</th>\n",
       "      <td>6.585948</td>\n",
       "      <td>0.109166</td>\n",
       "      <td>4.392025</td>\n",
       "      <td>1.000000</td>\n",
       "      <td>0.0</td>\n",
       "      <td>0.0</td>\n",
       "      <td>1.0</td>\n",
       "      <td>1.0</td>\n",
       "    </tr>\n",
       "    <tr>\n",
       "      <th>1825191</th>\n",
       "      <td>20.150916</td>\n",
       "      <td>0.503998</td>\n",
       "      <td>6.648288</td>\n",
       "      <td>1.000000</td>\n",
       "      <td>0.0</td>\n",
       "      <td>0.0</td>\n",
       "      <td>1.0</td>\n",
       "      <td>1.0</td>\n",
       "    </tr>\n",
       "    <tr>\n",
       "      <th>1825192</th>\n",
       "      <td>1.015895</td>\n",
       "      <td>0.775900</td>\n",
       "      <td>7.614940</td>\n",
       "      <td>0.000000</td>\n",
       "      <td>0.0</td>\n",
       "      <td>0.0</td>\n",
       "      <td>0.0</td>\n",
       "      <td>1.0</td>\n",
       "    </tr>\n",
       "    <tr>\n",
       "      <th>1825193</th>\n",
       "      <td>1.987163</td>\n",
       "      <td>4.120041</td>\n",
       "      <td>31.181134</td>\n",
       "      <td>0.633576</td>\n",
       "      <td>1.0</td>\n",
       "      <td>0.0</td>\n",
       "      <td>1.0</td>\n",
       "      <td>1.0</td>\n",
       "    </tr>\n",
       "  </tbody>\n",
       "</table>\n",
       "<p>1825194 rows × 8 columns</p>\n",
       "</div>"
      ],
      "text/plain": [
       "         distance_from_home  distance_from_last_transaction   \n",
       "0                 57.877857                        0.311140  \\\n",
       "1                 10.829943                        0.175592   \n",
       "2                  5.091079                        0.805153   \n",
       "3                  2.247564                        5.600044   \n",
       "4                 44.190936                        0.566486   \n",
       "...                     ...                             ...   \n",
       "1825189          339.323378                       61.110720   \n",
       "1825190            6.585948                        0.109166   \n",
       "1825191           20.150916                        0.503998   \n",
       "1825192            1.015895                        0.775900   \n",
       "1825193            1.987163                        4.120041   \n",
       "\n",
       "         ratio_to_median_purchase_price  repeat_retailer  used_chip   \n",
       "0                              1.945940         1.000000        1.0  \\\n",
       "1                              1.294219         1.000000        0.0   \n",
       "2                              0.427715         1.000000        0.0   \n",
       "3                              0.362663         1.000000        1.0   \n",
       "4                              2.222767         1.000000        1.0   \n",
       "...                                 ...              ...        ...   \n",
       "1825189                        1.412187         1.000000        0.0   \n",
       "1825190                        4.392025         1.000000        0.0   \n",
       "1825191                        6.648288         1.000000        0.0   \n",
       "1825192                        7.614940         0.000000        0.0   \n",
       "1825193                       31.181134         0.633576        1.0   \n",
       "\n",
       "         used_pin_number  online_order  fraud  \n",
       "0                    0.0           0.0    0.0  \n",
       "1                    0.0           0.0    0.0  \n",
       "2                    0.0           1.0    0.0  \n",
       "3                    0.0           1.0    0.0  \n",
       "4                    0.0           1.0    0.0  \n",
       "...                  ...           ...    ...  \n",
       "1825189              0.0           1.0    1.0  \n",
       "1825190              0.0           1.0    1.0  \n",
       "1825191              0.0           1.0    1.0  \n",
       "1825192              0.0           0.0    1.0  \n",
       "1825193              0.0           1.0    1.0  \n",
       "\n",
       "[1825194 rows x 8 columns]"
      ]
     },
     "execution_count": 14,
     "metadata": {},
     "output_type": "execute_result"
    }
   ],
   "source": [
    "oversampled_df"
   ]
  },
  {
   "cell_type": "code",
   "execution_count": 15,
   "metadata": {},
   "outputs": [
    {
     "data": {
      "text/plain": [
       "0.9416413360537718"
      ]
     },
     "execution_count": 15,
     "metadata": {},
     "output_type": "execute_result"
    }
   ],
   "source": [
    "# Logistic Regression Model\n",
    "\n",
    "from sklearn.linear_model import LogisticRegression\n",
    "x = oversampled_df.drop(['fraud'],axis=1)\n",
    "y = oversampled_df['fraud']\n",
    "\n",
    "# Split the data using train_test_split\n",
    "# Instantiate the Logistic Regression Model\n",
    "# Assign a random_state parameter of  to the model\n",
    "x_train, x_test, y_train, y_test = train_test_split(x, y, random_state=42)\n",
    "logistic = LogisticRegression(max_iter=1000)\n",
    "\n",
    "\n",
    "# Fit the model using training data\n",
    "model = logistic.fit(x_train, y_train)\n",
    "\n",
    "\n",
    "\n",
    "# Predict and Print the accuracy score of the model\n",
    "\n",
    "prediction = model.predict(x_test)\n",
    "\n",
    "accuracy_score(y_test,prediction)\n"
   ]
  },
  {
   "cell_type": "code",
   "execution_count": 16,
   "metadata": {},
   "outputs": [
    {
     "name": "stdout",
     "output_type": "stream",
     "text": [
      "Accuracy - 0.9416413360537718\n",
      "Recall - 0.9498059519742087\n",
      "precision - 0.9346134781577983\n"
     ]
    }
   ],
   "source": [
    "print(\"Accuracy - \" + str(accuracy_score(y_test,prediction)))\n",
    "print(\"Recall - \" + str(recall_score(y_test,prediction)))\n",
    "print(\"precision - \" + str(precision_score(y_test,prediction)))\n"
   ]
  },
  {
   "cell_type": "code",
   "execution_count": 17,
   "metadata": {},
   "outputs": [
    {
     "name": "stdout",
     "output_type": "stream",
     "text": [
      "Confusion Matrix is : \n",
      "[[212835  15170]\n",
      " [ 11459 216835]]\n"
     ]
    }
   ],
   "source": [
    "# Generate a confusion matrix for the model\n",
    "generat_confusion_matrix = confusion_matrix(y_test,prediction)\n",
    "print('Confusion Matrix is : ')\n",
    "print(generat_confusion_matrix)\n",
    "\n"
   ]
  },
  {
   "cell_type": "code",
   "execution_count": 18,
   "metadata": {},
   "outputs": [],
   "source": [
    "# Random Classifier Model\n",
    "\n",
    "x1 = oversampled_df.drop(['fraud'],axis=1)\n",
    "y1 = oversampled_df['fraud']"
   ]
  },
  {
   "cell_type": "code",
   "execution_count": 19,
   "metadata": {},
   "outputs": [],
   "source": [
    "# Split the data using train_test_split\n",
    "# Instantiate the Random Classfier Model\n",
    "x1_train, x1_test, y1_train, y1_test = train_test_split(x1, y1, random_state=42)\n",
    "randomforest = RandomForestClassifier()\n"
   ]
  },
  {
   "cell_type": "code",
   "execution_count": 20,
   "metadata": {},
   "outputs": [],
   "source": [
    "# Fit the model using training data\n",
    "\n",
    "model1 = randomforest.fit(x1_train,y1_train)"
   ]
  },
  {
   "cell_type": "code",
   "execution_count": 21,
   "metadata": {},
   "outputs": [
    {
     "name": "stdout",
     "output_type": "stream",
     "text": [
      "Accuracy - 0.9999934253636322\n",
      "Recall - 0.9999868590501721\n",
      "precision - 1.0\n"
     ]
    }
   ],
   "source": [
    "#Predict and print accuracy score\n",
    "\n",
    "prediction1 = model1.predict(x1_test)\n",
    "accuracy_score(y1_test,prediction1)\n",
    "\n",
    "print(\"Accuracy - \" + str(accuracy_score(y1_test,prediction1)))\n",
    "print(\"Recall - \" + str(recall_score(y1_test,prediction1)))\n",
    "print(\"precision - \" + str(precision_score(y1_test,prediction1)))"
   ]
  },
  {
   "cell_type": "code",
   "execution_count": null,
   "metadata": {},
   "outputs": [],
   "source": []
  },
  {
   "cell_type": "code",
   "execution_count": 22,
   "metadata": {},
   "outputs": [
    {
     "name": "stdout",
     "output_type": "stream",
     "text": [
      "Confusion Matrix is : \n",
      "[[212835  15170]\n",
      " [ 11459 216835]]\n"
     ]
    }
   ],
   "source": [
    "# Generate a confusion matrix for the model\n",
    "\n",
    "generat_confusion_matrix = confusion_matrix(y1_test,prediction)\n",
    "print('Confusion Matrix is : ')\n",
    "print(generat_confusion_matrix)"
   ]
  },
  {
   "cell_type": "code",
   "execution_count": 23,
   "metadata": {},
   "outputs": [],
   "source": [
    "# Decisison Tree\n",
    "\n",
    "x2 = oversampled_df.drop(['fraud'],axis=1)\n",
    "y2 = oversampled_df['fraud']\n",
    "\n",
    "dt = DecisionTreeRegressor()"
   ]
  },
  {
   "cell_type": "code",
   "execution_count": 24,
   "metadata": {},
   "outputs": [],
   "source": [
    "# Training and fitting the models\n",
    "x2_train,x2_test,y2_train,y2_test=train_test_split(x2,y2,test_size=0.3,random_state=123)\n",
    "\n",
    "model2 = dt.fit(x2_train,y2_train)"
   ]
  },
  {
   "cell_type": "code",
   "execution_count": 25,
   "metadata": {},
   "outputs": [
    {
     "name": "stdout",
     "output_type": "stream",
     "text": [
      "Accuracy - 0.9999744319790196\n",
      "Recall - 0.9999744273554232\n",
      "precision - 0.9999744273554232\n"
     ]
    }
   ],
   "source": [
    "#Predict and print accuracy score\n",
    "\n",
    "prediction2 = model2.predict(x2_test)\n",
    "\n",
    "accuracy_score(y2_test,prediction2)\n",
    "\n",
    "print(\"Accuracy - \" + str(accuracy_score(y2_test,prediction2)))\n",
    "print(\"Recall - \" + str(recall_score(y2_test,prediction2)))\n",
    "print(\"precision - \" + str(precision_score(y2_test,prediction2)))"
   ]
  },
  {
   "cell_type": "code",
   "execution_count": 26,
   "metadata": {},
   "outputs": [
    {
     "name": "stdout",
     "output_type": "stream",
     "text": [
      "Requirement already satisfied: gradio in c:\\users\\anith\\anaconda3\\lib\\site-packages (3.40.1)\n",
      "Requirement already satisfied: pydub in c:\\users\\anith\\anaconda3\\lib\\site-packages (from gradio) (0.25.1)\n",
      "Requirement already satisfied: packaging in c:\\users\\anith\\anaconda3\\lib\\site-packages (from gradio) (21.3)\n",
      "Requirement already satisfied: requests~=2.0 in c:\\users\\anith\\anaconda3\\lib\\site-packages (from gradio) (2.28.1)\n",
      "Requirement already satisfied: importlib-resources<7.0,>=1.3 in c:\\users\\anith\\anaconda3\\lib\\site-packages (from gradio) (6.0.1)\n",
      "Requirement already satisfied: ffmpy in c:\\users\\anith\\anaconda3\\lib\\site-packages (from gradio) (0.3.1)\n",
      "Requirement already satisfied: numpy~=1.0 in c:\\users\\anith\\anaconda3\\lib\\site-packages (from gradio) (1.21.5)\n",
      "Requirement already satisfied: pyyaml<7.0,>=5.0 in c:\\users\\anith\\anaconda3\\lib\\site-packages (from gradio) (6.0)\n",
      "Requirement already satisfied: pydantic!=1.8,!=1.8.1,!=2.0.0,!=2.0.1,<3.0.0,>=1.7.4 in c:\\users\\anith\\anaconda3\\lib\\site-packages (from gradio) (2.1.1)\n",
      "Requirement already satisfied: uvicorn>=0.14.0 in c:\\users\\anith\\anaconda3\\lib\\site-packages (from gradio) (0.23.2)\n",
      "Requirement already satisfied: mdit-py-plugins<=0.3.3 in c:\\users\\anith\\anaconda3\\lib\\site-packages (from gradio) (0.3.3)\n",
      "Requirement already satisfied: httpx in c:\\users\\anith\\anaconda3\\lib\\site-packages (from gradio) (0.24.1)\n",
      "Requirement already satisfied: pandas<3.0,>=1.0 in c:\\users\\anith\\anaconda3\\lib\\site-packages (from gradio) (2.0.0)\n",
      "Requirement already satisfied: python-multipart in c:\\users\\anith\\anaconda3\\lib\\site-packages (from gradio) (0.0.6)\n",
      "Requirement already satisfied: gradio-client>=0.4.0 in c:\\users\\anith\\anaconda3\\lib\\site-packages (from gradio) (0.4.0)\n",
      "Requirement already satisfied: semantic-version~=2.0 in c:\\users\\anith\\anaconda3\\lib\\site-packages (from gradio) (2.10.0)\n",
      "Requirement already satisfied: orjson~=3.0 in c:\\users\\anith\\anaconda3\\lib\\site-packages (from gradio) (3.9.4)\n",
      "Requirement already satisfied: fastapi in c:\\users\\anith\\anaconda3\\lib\\site-packages (from gradio) (0.101.1)\n",
      "Requirement already satisfied: markdown-it-py[linkify]>=2.0.0 in c:\\users\\anith\\anaconda3\\lib\\site-packages (from gradio) (2.2.0)\n",
      "Requirement already satisfied: jinja2<4.0 in c:\\users\\anith\\anaconda3\\lib\\site-packages (from gradio) (2.11.3)\n",
      "Requirement already satisfied: altair<6.0,>=4.2.0 in c:\\users\\anith\\anaconda3\\lib\\site-packages (from gradio) (5.0.1)\n",
      "Requirement already satisfied: markupsafe~=2.0 in c:\\users\\anith\\anaconda3\\lib\\site-packages (from gradio) (2.0.1)\n",
      "Requirement already satisfied: aiohttp~=3.0 in c:\\users\\anith\\anaconda3\\lib\\site-packages (from gradio) (3.8.5)\n",
      "Requirement already satisfied: aiofiles<24.0,>=22.0 in c:\\users\\anith\\anaconda3\\lib\\site-packages (from gradio) (23.2.1)\n",
      "Requirement already satisfied: typing-extensions~=4.0 in c:\\users\\anith\\anaconda3\\lib\\site-packages (from gradio) (4.7.1)\n",
      "Requirement already satisfied: websockets<12.0,>=10.0 in c:\\users\\anith\\anaconda3\\lib\\site-packages (from gradio) (11.0.3)\n",
      "Requirement already satisfied: huggingface-hub>=0.14.0 in c:\\users\\anith\\anaconda3\\lib\\site-packages (from gradio) (0.16.4)\n",
      "Requirement already satisfied: pillow<11.0,>=8.0 in c:\\users\\anith\\anaconda3\\lib\\site-packages (from gradio) (9.2.0)\n",
      "Requirement already satisfied: matplotlib~=3.0 in c:\\users\\anith\\anaconda3\\lib\\site-packages (from gradio) (3.5.2)\n",
      "Requirement already satisfied: charset-normalizer<4.0,>=2.0 in c:\\users\\anith\\anaconda3\\lib\\site-packages (from aiohttp~=3.0->gradio) (2.0.4)\n",
      "Requirement already satisfied: frozenlist>=1.1.1 in c:\\users\\anith\\anaconda3\\lib\\site-packages (from aiohttp~=3.0->gradio) (1.4.0)\n",
      "Requirement already satisfied: attrs>=17.3.0 in c:\\users\\anith\\anaconda3\\lib\\site-packages (from aiohttp~=3.0->gradio) (21.4.0)\n",
      "Requirement already satisfied: yarl<2.0,>=1.0 in c:\\users\\anith\\anaconda3\\lib\\site-packages (from aiohttp~=3.0->gradio) (1.9.2)\n",
      "Requirement already satisfied: multidict<7.0,>=4.5 in c:\\users\\anith\\anaconda3\\lib\\site-packages (from aiohttp~=3.0->gradio) (6.0.4)\n",
      "Requirement already satisfied: async-timeout<5.0,>=4.0.0a3 in c:\\users\\anith\\anaconda3\\lib\\site-packages (from aiohttp~=3.0->gradio) (4.0.3)\n",
      "Requirement already satisfied: aiosignal>=1.1.2 in c:\\users\\anith\\anaconda3\\lib\\site-packages (from aiohttp~=3.0->gradio) (1.3.1)\n",
      "Requirement already satisfied: jsonschema>=3.0 in c:\\users\\anith\\anaconda3\\lib\\site-packages (from altair<6.0,>=4.2.0->gradio) (4.16.0)\n",
      "Requirement already satisfied: toolz in c:\\users\\anith\\anaconda3\\lib\\site-packages (from altair<6.0,>=4.2.0->gradio) (0.11.2)\n",
      "Requirement already satisfied: fsspec in c:\\users\\anith\\anaconda3\\lib\\site-packages (from gradio-client>=0.4.0->gradio) (2022.7.1)\n",
      "Requirement already satisfied: filelock in c:\\users\\anith\\anaconda3\\lib\\site-packages (from huggingface-hub>=0.14.0->gradio) (3.6.0)\n",
      "Requirement already satisfied: tqdm>=4.42.1 in c:\\users\\anith\\anaconda3\\lib\\site-packages (from huggingface-hub>=0.14.0->gradio) (4.64.1)\n",
      "Requirement already satisfied: zipp>=3.1.0 in c:\\users\\anith\\anaconda3\\lib\\site-packages (from importlib-resources<7.0,>=1.3->gradio) (3.8.0)\n",
      "Requirement already satisfied: mdurl~=0.1 in c:\\users\\anith\\anaconda3\\lib\\site-packages (from markdown-it-py[linkify]>=2.0.0->gradio) (0.1.2)\n",
      "Requirement already satisfied: linkify-it-py<3,>=1 in c:\\users\\anith\\anaconda3\\lib\\site-packages (from markdown-it-py[linkify]>=2.0.0->gradio) (2.0.2)\n",
      "Requirement already satisfied: kiwisolver>=1.0.1 in c:\\users\\anith\\anaconda3\\lib\\site-packages (from matplotlib~=3.0->gradio) (1.4.2)\n",
      "Requirement already satisfied: fonttools>=4.22.0 in c:\\users\\anith\\anaconda3\\lib\\site-packages (from matplotlib~=3.0->gradio) (4.25.0)\n",
      "Requirement already satisfied: pyparsing>=2.2.1 in c:\\users\\anith\\anaconda3\\lib\\site-packages (from matplotlib~=3.0->gradio) (3.0.9)\n",
      "Requirement already satisfied: cycler>=0.10 in c:\\users\\anith\\anaconda3\\lib\\site-packages (from matplotlib~=3.0->gradio) (0.11.0)\n",
      "Requirement already satisfied: python-dateutil>=2.7 in c:\\users\\anith\\anaconda3\\lib\\site-packages (from matplotlib~=3.0->gradio) (2.8.2)\n",
      "Requirement already satisfied: tzdata>=2022.1 in c:\\users\\anith\\anaconda3\\lib\\site-packages (from pandas<3.0,>=1.0->gradio) (2023.3)\n",
      "Requirement already satisfied: pytz>=2020.1 in c:\\users\\anith\\anaconda3\\lib\\site-packages (from pandas<3.0,>=1.0->gradio) (2022.1)\n",
      "Requirement already satisfied: pydantic-core==2.4.0 in c:\\users\\anith\\anaconda3\\lib\\site-packages (from pydantic!=1.8,!=1.8.1,!=2.0.0,!=2.0.1,<3.0.0,>=1.7.4->gradio) (2.4.0)\n",
      "Requirement already satisfied: annotated-types>=0.4.0 in c:\\users\\anith\\anaconda3\\lib\\site-packages (from pydantic!=1.8,!=1.8.1,!=2.0.0,!=2.0.1,<3.0.0,>=1.7.4->gradio) (0.5.0)\n",
      "Requirement already satisfied: urllib3<1.27,>=1.21.1 in c:\\users\\anith\\anaconda3\\lib\\site-packages (from requests~=2.0->gradio) (1.26.15)\n",
      "Requirement already satisfied: idna<4,>=2.5 in c:\\users\\anith\\anaconda3\\lib\\site-packages (from requests~=2.0->gradio) (3.3)\n",
      "Requirement already satisfied: certifi>=2017.4.17 in c:\\users\\anith\\anaconda3\\lib\\site-packages (from requests~=2.0->gradio) (2023.7.22)\n",
      "Requirement already satisfied: click>=7.0 in c:\\users\\anith\\anaconda3\\lib\\site-packages (from uvicorn>=0.14.0->gradio) (8.0.4)\n",
      "Requirement already satisfied: h11>=0.8 in c:\\users\\anith\\anaconda3\\lib\\site-packages (from uvicorn>=0.14.0->gradio) (0.14.0)\n",
      "Requirement already satisfied: starlette<0.28.0,>=0.27.0 in c:\\users\\anith\\anaconda3\\lib\\site-packages (from fastapi->gradio) (0.27.0)\n",
      "Requirement already satisfied: httpcore<0.18.0,>=0.15.0 in c:\\users\\anith\\anaconda3\\lib\\site-packages (from httpx->gradio) (0.17.3)\n",
      "Requirement already satisfied: sniffio in c:\\users\\anith\\anaconda3\\lib\\site-packages (from httpx->gradio) (1.2.0)\n",
      "Requirement already satisfied: colorama in c:\\users\\anith\\anaconda3\\lib\\site-packages (from click>=7.0->uvicorn>=0.14.0->gradio) (0.4.5)\n",
      "Requirement already satisfied: anyio<5.0,>=3.0 in c:\\users\\anith\\anaconda3\\lib\\site-packages (from httpcore<0.18.0,>=0.15.0->httpx->gradio) (3.5.0)\n",
      "Requirement already satisfied: pyrsistent!=0.17.0,!=0.17.1,!=0.17.2,>=0.14.0 in c:\\users\\anith\\anaconda3\\lib\\site-packages (from jsonschema>=3.0->altair<6.0,>=4.2.0->gradio) (0.18.0)\n",
      "Requirement already satisfied: uc-micro-py in c:\\users\\anith\\anaconda3\\lib\\site-packages (from linkify-it-py<3,>=1->markdown-it-py[linkify]>=2.0.0->gradio) (1.0.2)\n",
      "Requirement already satisfied: six>=1.5 in c:\\users\\anith\\anaconda3\\lib\\site-packages (from python-dateutil>=2.7->matplotlib~=3.0->gradio) (1.16.0)\n"
     ]
    }
   ],
   "source": [
    "!pip install gradio"
   ]
  },
  {
   "cell_type": "code",
   "execution_count": 27,
   "metadata": {},
   "outputs": [
    {
     "name": "stderr",
     "output_type": "stream",
     "text": [
      "C:\\Users\\anith\\AppData\\Local\\Temp\\ipykernel_23380\\2504468172.py:11: GradioDeprecationWarning: Usage of gradio.outputs is deprecated, and will not be supported in the future, please import your components from gradio.components\n",
      "  outputs = gr.outputs.Textbox()\n"
     ]
    }
   ],
   "source": [
    "# The following method accepts inputs from the gradio interface and provides prediction output \n",
    "import gradio as gr\n",
    "def credit_card_features(distance_from_home,\tdistance_from_last_transaction,\tratio_to_median_purchase_price,\trepeat_retailer,\tused_chip,\tused_pin_number,\tonline_order):\n",
    "#turning the arguments into a numpy array\n",
    "  x = np.array([distance_from_home,\tdistance_from_last_transaction,\tratio_to_median_purchase_price,\trepeat_retailer,\tused_chip,\tused_pin_number,\tonline_order])\n",
    "  prediction = model2.predict(x.reshape(1, -1))\n",
    "  return prediction\n",
    "\n",
    "\n",
    "# The models predicted output for above feature input is output to a text box on the gradio interface\n",
    "outputs = gr.outputs.Textbox()\n",
    "\n",
    "app = gr.Interface(fn=credit_card_features, inputs=['number','number','number','number','number','number','number'], outputs=outputs,description=\"This is a Credit Card  model\")"
   ]
  },
  {
   "cell_type": "code",
   "execution_count": 28,
   "metadata": {},
   "outputs": [
    {
     "name": "stdout",
     "output_type": "stream",
     "text": [
      "Running on local URL:  http://127.0.0.1:7861\n",
      "Running on public URL: https://60e1b648a93e89f10b.gradio.live\n",
      "\n",
      "This share link expires in 72 hours. For free permanent hosting and GPU upgrades, run `gradio deploy` from Terminal to deploy to Spaces (https://huggingface.co/spaces)\n"
     ]
    },
    {
     "data": {
      "text/html": [
       "<div><iframe src=\"https://60e1b648a93e89f10b.gradio.live\" width=\"100%\" height=\"500\" allow=\"autoplay; camera; microphone; clipboard-read; clipboard-write;\" frameborder=\"0\" allowfullscreen></iframe></div>"
      ],
      "text/plain": [
       "<IPython.core.display.HTML object>"
      ]
     },
     "metadata": {},
     "output_type": "display_data"
    },
    {
     "name": "stdout",
     "output_type": "stream",
     "text": [
      "Keyboard interruption in main thread... closing server.\n",
      "Killing tunnel 127.0.0.1:7861 <> https://60e1b648a93e89f10b.gradio.live\n"
     ]
    },
    {
     "data": {
      "text/plain": []
     },
     "execution_count": 28,
     "metadata": {},
     "output_type": "execute_result"
    }
   ],
   "source": [
    "app.launch(share=True,debug=True)"
   ]
  }
 ],
 "metadata": {
  "kernelspec": {
   "display_name": "base",
   "language": "python",
   "name": "python3"
  },
  "language_info": {
   "codemirror_mode": {
    "name": "ipython",
    "version": 3
   },
   "file_extension": ".py",
   "mimetype": "text/x-python",
   "name": "python",
   "nbconvert_exporter": "python",
   "pygments_lexer": "ipython3",
   "version": "3.9.13"
  },
  "orig_nbformat": 4
 },
 "nbformat": 4,
 "nbformat_minor": 2
}
