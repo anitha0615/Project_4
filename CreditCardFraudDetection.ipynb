{
  "nbformat": 4,
  "nbformat_minor": 0,
  "metadata": {
    "colab": {
      "provenance": [],
      "mount_file_id": "1GmPtZ_zEy8C-G1geBYvVVXZJaasshxAk",
      "authorship_tag": "ABX9TyOoJmIqgPWv9nIK1zAD9J27",
      "include_colab_link": true
    },
    "kernelspec": {
      "name": "python3",
      "display_name": "Python 3"
    },
    "language_info": {
      "name": "python"
    }
  },
  "cells": [
    {
      "cell_type": "markdown",
      "metadata": {
        "id": "view-in-github",
        "colab_type": "text"
      },
      "source": [
        "<a href=\"https://colab.research.google.com/github/anitha0615/Project_4/blob/main/CreditCardFraudDetection.ipynb\" target=\"_parent\"><img src=\"https://colab.research.google.com/assets/colab-badge.svg\" alt=\"Open In Colab\"/></a>"
      ]
    },
    {
      "cell_type": "code",
      "source": [
        "pip install findspark\n"
      ],
      "metadata": {
        "colab": {
          "base_uri": "https://localhost:8080/"
        },
        "id": "ErjeBny8qkE5",
        "outputId": "a559b64b-ab80-4e94-83e5-ed6f3f563e42"
      },
      "execution_count": null,
      "outputs": [
        {
          "output_type": "stream",
          "name": "stdout",
          "text": [
            "Collecting findspark\n",
            "  Downloading findspark-2.0.1-py2.py3-none-any.whl (4.4 kB)\n",
            "Installing collected packages: findspark\n",
            "Successfully installed findspark-2.0.1\n"
          ]
        }
      ]
    },
    {
      "cell_type": "code",
      "source": [
        "pip install pyspark"
      ],
      "metadata": {
        "colab": {
          "base_uri": "https://localhost:8080/"
        },
        "id": "tlgeyHqUwM2q",
        "outputId": "8f8fc223-8cd7-41f6-cd35-afed9c1905a5"
      },
      "execution_count": null,
      "outputs": [
        {
          "output_type": "stream",
          "name": "stdout",
          "text": [
            "Collecting pyspark\n",
            "  Downloading pyspark-3.4.1.tar.gz (310.8 MB)\n",
            "\u001b[2K     \u001b[90m━━━━━━━━━━━━━━━━━━━━━━━━━━━━━━━━━━━━━━━\u001b[0m \u001b[32m310.8/310.8 MB\u001b[0m \u001b[31m4.6 MB/s\u001b[0m eta \u001b[36m0:00:00\u001b[0m\n",
            "\u001b[?25h  Preparing metadata (setup.py) ... \u001b[?25l\u001b[?25hdone\n",
            "Requirement already satisfied: py4j==0.10.9.7 in /usr/local/lib/python3.10/dist-packages (from pyspark) (0.10.9.7)\n",
            "Building wheels for collected packages: pyspark\n",
            "  Building wheel for pyspark (setup.py) ... \u001b[?25l\u001b[?25hdone\n",
            "  Created wheel for pyspark: filename=pyspark-3.4.1-py2.py3-none-any.whl size=311285397 sha256=34c5f618b27d385cb738e59ac9b263455a75724cf5a3572c19eab8f27a8f1189\n",
            "  Stored in directory: /root/.cache/pip/wheels/0d/77/a3/ff2f74cc9ab41f8f594dabf0579c2a7c6de920d584206e0834\n",
            "Successfully built pyspark\n",
            "Installing collected packages: pyspark\n",
            "Successfully installed pyspark-3.4.1\n"
          ]
        }
      ]
    },
    {
      "cell_type": "code",
      "source": [
        "import pyspark\n",
        "from pyspark.sql import SparkSession\n",
        "spark = SparkSession.builder.appName(\"CSVReadExample\").getOrCreate()"
      ],
      "metadata": {
        "id": "ofO2e58MwnGp"
      },
      "execution_count": null,
      "outputs": []
    },
    {
      "cell_type": "code",
      "source": [
        "import findspark\n",
        "findspark.init()"
      ],
      "metadata": {
        "id": "jDogJgunwT7V"
      },
      "execution_count": null,
      "outputs": []
    },
    {
      "cell_type": "code",
      "source": [
        "# Read the CSV file into a DataFrame and limit rows to 250,000\n",
        "csv_file_path = \"/content/card_transdata.csv\"\n",
        "df = spark.read.csv(csv_file_path, header=True, inferSchema=True)\n",
        "df.limit(250000)\n"
      ],
      "metadata": {
        "id": "OTvyGKUkwpP6",
        "colab": {
          "base_uri": "https://localhost:8080/"
        },
        "outputId": "81496c79-12d7-4099-b3fe-0e4e7388aa8b"
      },
      "execution_count": 108,
      "outputs": [
        {
          "output_type": "execute_result",
          "data": {
            "text/plain": [
              "DataFrame[distance_from_home: double, distance_from_last_transaction: double, ratio_to_median_purchase_price: double, repeat_retailer: double, used_chip: double, used_pin_number: double, online_order: double, fraud: double]"
            ]
          },
          "metadata": {},
          "execution_count": 108
        }
      ]
    },
    {
      "cell_type": "markdown",
      "source": [
        "# New Section"
      ],
      "metadata": {
        "id": "fTijqYnVzcFx"
      }
    },
    {
      "cell_type": "code",
      "source": [
        "# Show the first few rows of the DataFrame\n",
        "df.show()"
      ],
      "metadata": {
        "colab": {
          "base_uri": "https://localhost:8080/"
        },
        "id": "mrZJ1AJexSx0",
        "outputId": "9177d500-bfea-408d-d8a2-d61f4bb3fa95"
      },
      "execution_count": null,
      "outputs": [
        {
          "output_type": "stream",
          "name": "stdout",
          "text": [
            "+------------------+------------------------------+------------------------------+---------------+---------+---------------+------------+-----+\n",
            "|distance_from_home|distance_from_last_transaction|ratio_to_median_purchase_price|repeat_retailer|used_chip|used_pin_number|online_order|fraud|\n",
            "+------------------+------------------------------+------------------------------+---------------+---------+---------------+------------+-----+\n",
            "| 57.87785658389723|            0.3111400080477545|            1.9459399775518593|            1.0|      1.0|            0.0|         0.0|  0.0|\n",
            "|10.829942699255545|           0.17559150228166587|            1.2942188106198573|            1.0|      0.0|            0.0|         0.0|  0.0|\n",
            "| 5.091079490616996|            0.8051525945853258|           0.42771456119427587|            1.0|      0.0|            0.0|         1.0|  0.0|\n",
            "|2.2475643282963613|              5.60004354707232|           0.36266257805709584|            1.0|      1.0|            0.0|         1.0|  0.0|\n",
            "| 44.19093600261837|            0.5664862680583477|            2.2227672978404707|            1.0|      1.0|            0.0|         1.0|  0.0|\n",
            "| 5.586407674186407|            13.261073268058121|           0.06476846537046335|            1.0|      0.0|            0.0|         0.0|  0.0|\n",
            "|3.7240191247148107|            0.9568379284821842|           0.27846494490815554|            1.0|      0.0|            0.0|         1.0|  0.0|\n",
            "|4.8482465722805665|            0.3207354272228163|            1.2730495235601782|            1.0|      0.0|            1.0|         0.0|  0.0|\n",
            "|0.8766322564943629|            2.5036089266921437|            1.5169993152858177|            0.0|      0.0|            0.0|         0.0|  0.0|\n",
            "|  8.83904670372637|            2.9705122760243827|              2.36168254706846|            1.0|      0.0|            0.0|         1.0|  0.0|\n",
            "|14.263529735069081|            0.1587580860346303|            1.1361019405394772|            1.0|      1.0|            0.0|         1.0|  0.0|\n",
            "|13.592367567909633|             0.240539812984415|            1.3703298614332031|            1.0|      1.0|            0.0|         1.0|  0.0|\n",
            "| 765.2825592612469|            0.3715619621963146|            0.5512447476281009|            1.0|      1.0|            0.0|         0.0|  0.0|\n",
            "| 2.131955665990563|              56.3724005365082|             6.358667321630612|            1.0|      0.0|            0.0|         1.0|  1.0|\n",
            "| 13.95597236704443|           0.27152152834856924|             2.798901124938246|            1.0|      0.0|            0.0|         1.0|  0.0|\n",
            "| 179.6651476857078|           0.12091963755751828|            0.5356404825310114|            1.0|      1.0|            1.0|         1.0|  0.0|\n",
            "|114.51978939161216|            0.7070032526577117|             0.516989925221995|            1.0|      0.0|            0.0|         0.0|  0.0|\n",
            "|3.5896485976213444|             6.247457541963805|            1.8464505265933646|            1.0|      0.0|            0.0|         0.0|  0.0|\n",
            "|11.085152484057602|             34.66135141778853|             2.530758449146248|            1.0|      0.0|            0.0|         1.0|  0.0|\n",
            "| 6.194670766326057|             1.142014235500891|            0.3072166087549278|            1.0|      0.0|            0.0|         0.0|  0.0|\n",
            "+------------------+------------------------------+------------------------------+---------------+---------+---------------+------------+-----+\n",
            "only showing top 20 rows\n",
            "\n"
          ]
        }
      ]
    },
    {
      "cell_type": "code",
      "source": [
        "dfgr = df.groupby( \"fraud\").mean()\n"
      ],
      "metadata": {
        "id": "vumYff2zxco1"
      },
      "execution_count": null,
      "outputs": []
    },
    {
      "cell_type": "code",
      "source": [
        "from pyspark.sql.functions import col, when\n",
        "from pyspark.sql.types import StringType,BooleanType,DateType\n",
        "\n",
        "dfgr.show()\n",
        "\n",
        "#dfgr_conv = dfgr.withColumn(\"fraud_boolean\", when( col(\"fraud\") == (0.0), True).otherwise(False))\n",
        "\n",
        "#dfgr_conv.show()\n",
        "\n",
        "dfgr_pd = dfgr.toPandas()"
      ],
      "metadata": {
        "id": "lbTfxw44TGKW",
        "outputId": "762eb4fc-387c-4a6f-abe8-2a677d3e50ba",
        "colab": {
          "base_uri": "https://localhost:8080/"
        }
      },
      "execution_count": null,
      "outputs": [
        {
          "output_type": "stream",
          "name": "stdout",
          "text": [
            "+-----+-----------------------+-----------------------------------+-----------------------------------+--------------------+-------------------+--------------------+------------------+----------+\n",
            "|fraud|avg(distance_from_home)|avg(distance_from_last_transaction)|avg(ratio_to_median_purchase_price)|avg(repeat_retailer)|     avg(used_chip)|avg(used_pin_number)| avg(online_order)|avg(fraud)|\n",
            "+-----+-----------------------+-----------------------------------+-----------------------------------+--------------------+-------------------+--------------------+------------------+----------+\n",
            "|  0.0|     22.832976018240924|                  4.301390735421416|                 1.4236418554580572|  0.8816717565365654|   0.35940179509685| 0.10994447713503332|0.6222253634408178|       0.0|\n",
            "|  1.0|      66.26187633436903|                 12.712185129666834|                   6.00632349048699|   0.880118531400524|0.25639852178986994|0.003123462581375...|0.9463176321178907|       1.0|\n",
            "+-----+-----------------------+-----------------------------------+-----------------------------------+--------------------+-------------------+--------------------+------------------+----------+\n",
            "\n",
            "+-----+-----------------------+-----------------------------------+-----------------------------------+--------------------+-------------------+--------------------+------------------+----------+-------------+\n",
            "|fraud|avg(distance_from_home)|avg(distance_from_last_transaction)|avg(ratio_to_median_purchase_price)|avg(repeat_retailer)|     avg(used_chip)|avg(used_pin_number)| avg(online_order)|avg(fraud)|fraud_boolean|\n",
            "+-----+-----------------------+-----------------------------------+-----------------------------------+--------------------+-------------------+--------------------+------------------+----------+-------------+\n",
            "|  0.0|     22.832976018240924|                  4.301390735421416|                 1.4236418554580572|  0.8816717565365654|   0.35940179509685| 0.10994447713503332|0.6222253634408178|       0.0|         true|\n",
            "|  1.0|      66.26187633436903|                 12.712185129666834|                   6.00632349048699|   0.880118531400524|0.25639852178986994|0.003123462581375...|0.9463176321178907|       1.0|        false|\n",
            "+-----+-----------------------+-----------------------------------+-----------------------------------+--------------------+-------------------+--------------------+------------------+----------+-------------+\n",
            "\n"
          ]
        }
      ]
    },
    {
      "cell_type": "code",
      "source": [
        "import numpy as np\n",
        "import pandas as pd\n",
        "import matplotlib.pyplot as plt\n",
        "import seaborn as sns\n",
        "import sklearn\n",
        "from sklearn.model_selection import train_test_split\n",
        "from sklearn.preprocessing import StandardScaler\n",
        "from sklearn.preprocessing import MinMaxScaler\n",
        "from sklearn.tree import DecisionTreeClassifier\n",
        "from sklearn.linear_model import LogisticRegression\n",
        "from imblearn.over_sampling import RandomOverSampler"
      ],
      "metadata": {
        "id": "qUsfWO5NTJLQ"
      },
      "execution_count": 97,
      "outputs": []
    },
    {
      "cell_type": "code",
      "source": [
        "#for i in dfgr_pd:\n",
        "#print(i)\n",
        "plt.title(\"Fraud wrt distance from home\")\n",
        "plt.bar([\"Normal\",\"Fraud\"],dfgr_pd[\"avg(distance_from_home)\"])\n",
        "plt.xlabel(\"Type\")\n",
        "plt.ylabel(\"Distance\")\n",
        "plt.show()\n",
        "plt.title(\"Fraud wrt ratio to median purchase price\")\n",
        "plt.bar([\"Normal\",\"Fraud\"],dfgr_pd[\"avg(ratio_to_median_purchase_price)\"])\n",
        "plt.xlabel(\"Type\")\n",
        "plt.ylabel(\"Distance\")\n",
        "plt.show()\n",
        "\n",
        "plt.title(\"Fraud wrt online orders\")\n",
        "plt.bar([\"Normal\",\"Fraud\"],dfgr_pd[\"avg(online_order)\"])\n",
        "plt.xlabel(\"Type\")\n",
        "plt.ylabel(\"Distance\")\n",
        "plt.show()\n",
        "\n"
      ],
      "metadata": {
        "id": "U-Zhdy1HTZr_",
        "outputId": "0e9880b8-8c56-4153-e4be-a062b2dbcb38",
        "colab": {
          "base_uri": "https://localhost:8080/",
          "height": 1000
        }
      },
      "execution_count": null,
      "outputs": [
        {
          "output_type": "display_data",
          "data": {
            "text/plain": [
              "<Figure size 640x480 with 1 Axes>"
            ],
            "image/png": "[encoded data removed]"
          },
          "metadata": {}
        },
        {
          "output_type": "display_data",
          "data": {
            "text/plain": [
              "<Figure size 640x480 with 1 Axes>"
            ],
            "image/png": "[encoded data removed]"
          },
          "metadata": {}
        },
        {
          "output_type": "display_data",
          "data": {
            "text/plain": [
              "<Figure size 640x480 with 1 Axes>"
            ],
            "image/png": "[encoded data removed]"
          },
          "metadata": {}
        }
      ]
    },
    {
      "cell_type": "code",
      "source": [
        "original_df.dtypes"
      ],
      "metadata": {
        "id": "o0oBvdXLbZLo",
        "outputId": "2e474ba9-b9eb-40a6-bb0b-1cc0f4d9a375",
        "colab": {
          "base_uri": "https://localhost:8080/"
        }
      },
      "execution_count": 100,
      "outputs": [
        {
          "output_type": "execute_result",
          "data": {
            "text/plain": [
              "distance_from_home                float64\n",
              "distance_from_last_transaction    float64\n",
              "ratio_to_median_purchase_price    float64\n",
              "repeat_retailer                   float64\n",
              "used_chip                         float64\n",
              "used_pin_number                   float64\n",
              "online_order                      float64\n",
              "fraud                             float64\n",
              "dtype: object"
            ]
          },
          "metadata": {},
          "execution_count": 100
        }
      ]
    },
    {
      "cell_type": "code",
      "source": [
        "#convert the original spark dataframe to a pandas dataframe\n",
        "original_df = df.limit(250000).toPandas()\n",
        "# create the labels set (y) from the \"fraud\" column,a nd then create the features (X) DataFrame from the remaining columns.\n",
        "# Separate the data into labels and features\n",
        "# Separate the y variable, the labels\n",
        "\n",
        "y = original_df['fraud']\n",
        "\n",
        "# Separate the X variable, the features\n",
        "X = original_df.drop(columns=['fraud'])\n"
      ],
      "metadata": {
        "id": "VClSE_9Rb016"
      },
      "execution_count": 112,
      "outputs": []
    },
    {
      "cell_type": "code",
      "source": [
        "X.head()"
      ],
      "metadata": {
        "id": "Ja6aRU4EP5E6",
        "outputId": "7e16839c-8491-4e28-f3c5-e4dde7e2fc11",
        "colab": {
          "base_uri": "https://localhost:8080/",
          "height": 206
        }
      },
      "execution_count": 113,
      "outputs": [
        {
          "output_type": "execute_result",
          "data": {
            "text/plain": [
              "   distance_from_home  distance_from_last_transaction  \\\n",
              "0           57.877857                        0.311140   \n",
              "1           10.829943                        0.175592   \n",
              "2            5.091079                        0.805153   \n",
              "3            2.247564                        5.600044   \n",
              "4           44.190936                        0.566486   \n",
              "\n",
              "   ratio_to_median_purchase_price  repeat_retailer  used_chip  \\\n",
              "0                        1.945940              1.0        1.0   \n",
              "1                        1.294219              1.0        0.0   \n",
              "2                        0.427715              1.0        0.0   \n",
              "3                        0.362663              1.0        1.0   \n",
              "4                        2.222767              1.0        1.0   \n",
              "\n",
              "   used_pin_number  online_order  \n",
              "0              0.0           0.0  \n",
              "1              0.0           0.0  \n",
              "2              0.0           1.0  \n",
              "3              0.0           1.0  \n",
              "4              0.0           1.0  "
            ],
            "text/html": [
              "\n",
              "\n",
              "  <div id=\"df-bb0c9185-1724-47dc-9f9e-35cb43aabc95\">\n",
              "    <div class=\"colab-df-container\">\n",
              "      <div>\n",
              "<style scoped>\n",
              "    .dataframe tbody tr th:only-of-type {\n",
              "        vertical-align: middle;\n",
              "    }\n",
              "\n",
              "    .dataframe tbody tr th {\n",
              "        vertical-align: top;\n",
              "    }\n",
              "\n",
              "    .dataframe thead th {\n",
              "        text-align: right;\n",
              "    }\n",
              "</style>\n",
              "<table border=\"1\" class=\"dataframe\">\n",
              "  <thead>\n",
              "    <tr style=\"text-align: right;\">\n",
              "      <th></th>\n",
              "      <th>distance_from_home</th>\n",
              "      <th>distance_from_last_transaction</th>\n",
              "      <th>ratio_to_median_purchase_price</th>\n",
              "      <th>repeat_retailer</th>\n",
              "      <th>used_chip</th>\n",
              "      <th>used_pin_number</th>\n",
              "      <th>online_order</th>\n",
              "    </tr>\n",
              "  </thead>\n",
              "  <tbody>\n",
              "    <tr>\n",
              "      <th>0</th>\n",
              "      <td>57.877857</td>\n",
              "      <td>0.311140</td>\n",
              "      <td>1.945940</td>\n",
              "      <td>1.0</td>\n",
              "      <td>1.0</td>\n",
              "      <td>0.0</td>\n",
              "      <td>0.0</td>\n",
              "    </tr>\n",
              "    <tr>\n",
              "      <th>1</th>\n",
              "      <td>10.829943</td>\n",
              "      <td>0.175592</td>\n",
              "      <td>1.294219</td>\n",
              "      <td>1.0</td>\n",
              "      <td>0.0</td>\n",
              "      <td>0.0</td>\n",
              "      <td>0.0</td>\n",
              "    </tr>\n",
              "    <tr>\n",
              "      <th>2</th>\n",
              "      <td>5.091079</td>\n",
              "      <td>0.805153</td>\n",
              "      <td>0.427715</td>\n",
              "      <td>1.0</td>\n",
              "      <td>0.0</td>\n",
              "      <td>0.0</td>\n",
              "      <td>1.0</td>\n",
              "    </tr>\n",
              "    <tr>\n",
              "      <th>3</th>\n",
              "      <td>2.247564</td>\n",
              "      <td>5.600044</td>\n",
              "      <td>0.362663</td>\n",
              "      <td>1.0</td>\n",
              "      <td>1.0</td>\n",
              "      <td>0.0</td>\n",
              "      <td>1.0</td>\n",
              "    </tr>\n",
              "    <tr>\n",
              "      <th>4</th>\n",
              "      <td>44.190936</td>\n",
              "      <td>0.566486</td>\n",
              "      <td>2.222767</td>\n",
              "      <td>1.0</td>\n",
              "      <td>1.0</td>\n",
              "      <td>0.0</td>\n",
              "      <td>1.0</td>\n",
              "    </tr>\n",
              "  </tbody>\n",
              "</table>\n",
              "</div>\n",
              "      <button class=\"colab-df-convert\" onclick=\"convertToInteractive('df-bb0c9185-1724-47dc-9f9e-35cb43aabc95')\"\n",
              "              title=\"Convert this dataframe to an interactive table.\"\n",
              "              style=\"display:none;\">\n",
              "\n",
              "  <svg xmlns=\"http://www.w3.org/2000/svg\" height=\"24px\"viewBox=\"0 0 24 24\"\n",
              "       width=\"24px\">\n",
              "    <path d=\"M0 0h24v24H0V0z\" fill=\"none\"/>\n",
              "    <path d=\"M18.56 5.44l.94 2.06.94-2.06 2.06-.94-2.06-.94-.94-2.06-.94 2.06-2.06.94zm-11 1L8.5 8.5l.94-2.06 2.06-.94-2.06-.94L8.5 2.5l-.94 2.06-2.06.94zm10 10l.94 2.06.94-2.06 2.06-.94-2.06-.94-.94-2.06-.94 2.06-2.06.94z\"/><path d=\"M17.41 7.96l-1.37-1.37c-.4-.4-.92-.59-1.43-.59-.52 0-1.04.2-1.43.59L10.3 9.45l-7.72 7.72c-.78.78-.78 2.05 0 2.83L4 21.41c.39.39.9.59 1.41.59.51 0 1.02-.2 1.41-.59l7.78-7.78 2.81-2.81c.8-.78.8-2.07 0-2.86zM5.41 20L4 18.59l7.72-7.72 1.47 1.35L5.41 20z\"/>\n",
              "  </svg>\n",
              "      </button>\n",
              "\n",
              "\n",
              "\n",
              "    <div id=\"df-1e7d71ea-ff8f-4a69-8a95-18cb4b6880d1\">\n",
              "      <button class=\"colab-df-quickchart\" onclick=\"quickchart('df-1e7d71ea-ff8f-4a69-8a95-18cb4b6880d1')\"\n",
              "              title=\"Suggest charts.\"\n",
              "              style=\"display:none;\">\n",
              "\n",
              "<svg xmlns=\"http://www.w3.org/2000/svg\" height=\"24px\"viewBox=\"0 0 24 24\"\n",
              "     width=\"24px\">\n",
              "    <g>\n",
              "        <path d=\"M19 3H5c-1.1 0-2 .9-2 2v14c0 1.1.9 2 2 2h14c1.1 0 2-.9 2-2V5c0-1.1-.9-2-2-2zM9 17H7v-7h2v7zm4 0h-2V7h2v10zm4 0h-2v-4h2v4z\"/>\n",
              "    </g>\n",
              "</svg>\n",
              "      </button>\n",
              "    </div>\n",
              "\n",
              "<style>\n",
              "  .colab-df-quickchart {\n",
              "    background-color: #E8F0FE;\n",
              "    border: none;\n",
              "    border-radius: 50%;\n",
              "    cursor: pointer;\n",
              "    display: none;\n",
              "    fill: #1967D2;\n",
              "    height: 32px;\n",
              "    padding: 0 0 0 0;\n",
              "    width: 32px;\n",
              "  }\n",
              "\n",
              "  .colab-df-quickchart:hover {\n",
              "    background-color: #E2EBFA;\n",
              "    box-shadow: 0px 1px 2px rgba(60, 64, 67, 0.3), 0px 1px 3px 1px rgba(60, 64, 67, 0.15);\n",
              "    fill: #174EA6;\n",
              "  }\n",
              "\n",
              "  [theme=dark] .colab-df-quickchart {\n",
              "    background-color: #3B4455;\n",
              "    fill: #D2E3FC;\n",
              "  }\n",
              "\n",
              "  [theme=dark] .colab-df-quickchart:hover {\n",
              "    background-color: #434B5C;\n",
              "    box-shadow: 0px 1px 3px 1px rgba(0, 0, 0, 0.15);\n",
              "    filter: drop-shadow(0px 1px 2px rgba(0, 0, 0, 0.3));\n",
              "    fill: #FFFFFF;\n",
              "  }\n",
              "</style>\n",
              "\n",
              "    <script>\n",
              "      async function quickchart(key) {\n",
              "        const containerElement = document.querySelector('#' + key);\n",
              "        const charts = await google.colab.kernel.invokeFunction(\n",
              "            'suggestCharts', [key], {});\n",
              "      }\n",
              "    </script>\n",
              "\n",
              "      <script>\n",
              "\n",
              "function displayQuickchartButton(domScope) {\n",
              "  let quickchartButtonEl =\n",
              "    domScope.querySelector('#df-1e7d71ea-ff8f-4a69-8a95-18cb4b6880d1 button.colab-df-quickchart');\n",
              "  quickchartButtonEl.style.display =\n",
              "    google.colab.kernel.accessAllowed ? 'block' : 'none';\n",
              "}\n",
              "\n",
              "        displayQuickchartButton(document);\n",
              "      </script>\n",
              "      <style>\n",
              "    .colab-df-container {\n",
              "      display:flex;\n",
              "      flex-wrap:wrap;\n",
              "      gap: 12px;\n",
              "    }\n",
              "\n",
              "    .colab-df-convert {\n",
              "      background-color: #E8F0FE;\n",
              "      border: none;\n",
              "      border-radius: 50%;\n",
              "      cursor: pointer;\n",
              "      display: none;\n",
              "      fill: #1967D2;\n",
              "      height: 32px;\n",
              "      padding: 0 0 0 0;\n",
              "      width: 32px;\n",
              "    }\n",
              "\n",
              "    .colab-df-convert:hover {\n",
              "      background-color: #E2EBFA;\n",
              "      box-shadow: 0px 1px 2px rgba(60, 64, 67, 0.3), 0px 1px 3px 1px rgba(60, 64, 67, 0.15);\n",
              "      fill: #174EA6;\n",
              "    }\n",
              "\n",
              "    [theme=dark] .colab-df-convert {\n",
              "      background-color: #3B4455;\n",
              "      fill: #D2E3FC;\n",
              "    }\n",
              "\n",
              "    [theme=dark] .colab-df-convert:hover {\n",
              "      background-color: #434B5C;\n",
              "      box-shadow: 0px 1px 3px 1px rgba(0, 0, 0, 0.15);\n",
              "      filter: drop-shadow(0px 1px 2px rgba(0, 0, 0, 0.3));\n",
              "      fill: #FFFFFF;\n",
              "    }\n",
              "  </style>\n",
              "\n",
              "      <script>\n",
              "        const buttonEl =\n",
              "          document.querySelector('#df-bb0c9185-1724-47dc-9f9e-35cb43aabc95 button.colab-df-convert');\n",
              "        buttonEl.style.display =\n",
              "          google.colab.kernel.accessAllowed ? 'block' : 'none';\n",
              "\n",
              "        async function convertToInteractive(key) {\n",
              "          const element = document.querySelector('#df-bb0c9185-1724-47dc-9f9e-35cb43aabc95');\n",
              "          const dataTable =\n",
              "            await google.colab.kernel.invokeFunction('convertToInteractive',\n",
              "                                                     [key], {});\n",
              "          if (!dataTable) return;\n",
              "\n",
              "          const docLinkHtml = 'Like what you see? Visit the ' +\n",
              "            '<a target=\"_blank\" href=https://colab.research.google.com/notebooks/data_table.ipynb>data table notebook</a>'\n",
              "            + ' to learn more about interactive tables.';\n",
              "          element.innerHTML = '';\n",
              "          dataTable['output_type'] = 'display_data';\n",
              "          await google.colab.output.renderOutput(dataTable, element);\n",
              "          const docLink = document.createElement('div');\n",
              "          docLink.innerHTML = docLinkHtml;\n",
              "          element.appendChild(docLink);\n",
              "        }\n",
              "      </script>\n",
              "    </div>\n",
              "  </div>\n"
            ]
          },
          "metadata": {},
          "execution_count": 113
        }
      ]
    },
    {
      "cell_type": "code",
      "source": [
        "# Check the balance of our target values\n",
        "y.value_counts()"
      ],
      "metadata": {
        "id": "-ifiQifaUdxe",
        "outputId": "9a91d3cf-6901-4180-d128-c5c9da54762d",
        "colab": {
          "base_uri": "https://localhost:8080/"
        }
      },
      "execution_count": 109,
      "outputs": [
        {
          "output_type": "execute_result",
          "data": {
            "text/plain": [
              "0.0    228295\n",
              "1.0     21705\n",
              "Name: fraud, dtype: int64"
            ]
          },
          "metadata": {},
          "execution_count": 109
        }
      ]
    },
    {
      "cell_type": "code",
      "source": [
        " # Split the data into training and testing datasets by using train_test_split.\n",
        " # Split the data using train_test_split\n",
        "# Assign a random_state of 1 to the function\n",
        "\n",
        "X_train, X_test, y_train, y_test = train_test_split(X, y, random_state=1, stratify=y)\n"
      ],
      "metadata": {
        "id": "bWbGhi5iXGc6"
      },
      "execution_count": 114,
      "outputs": []
    },
    {
      "cell_type": "code",
      "source": [
        "#Create a Logistic Regression Model with the Original Data\n",
        "#Fit a logistic regression model by using the training data (X_train and y_train).\n",
        "\n",
        "# Instantiate the Logistic Regression Model\n",
        "# Assign a random_state parameter of  to the model\n",
        "logistic_regression_model = LogisticRegression(random_state=1)\n",
        "\n",
        "# Fit the model using training data\n",
        "training_data_model = logistic_regression_model.fit(X_train, y_train)"
      ],
      "metadata": {
        "id": "wWCK_40LXUsa",
        "outputId": "2860e891-2b30-497e-d45b-d88b38a94303",
        "colab": {
          "base_uri": "https://localhost:8080/"
        }
      },
      "execution_count": 119,
      "outputs": [
        {
          "output_type": "stream",
          "name": "stderr",
          "text": [
            "/usr/local/lib/python3.10/dist-packages/sklearn/linear_model/_logistic.py:458: ConvergenceWarning: lbfgs failed to converge (status=1):\n",
            "STOP: TOTAL NO. of ITERATIONS REACHED LIMIT.\n",
            "\n",
            "Increase the number of iterations (max_iter) or scale the data as shown in:\n",
            "    https://scikit-learn.org/stable/modules/preprocessing.html\n",
            "Please also refer to the documentation for alternative solver options:\n",
            "    https://scikit-learn.org/stable/modules/linear_model.html#logistic-regression\n",
            "  n_iter_i = _check_optimize_result(\n"
          ]
        }
      ]
    },
    {
      "cell_type": "code",
      "source": [],
      "metadata": {
        "id": "xwa6H0hQYkrK"
      },
      "execution_count": null,
      "outputs": []
    }
  ]
}