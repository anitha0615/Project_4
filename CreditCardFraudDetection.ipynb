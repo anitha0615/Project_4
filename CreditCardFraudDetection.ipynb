{
  "nbformat": 4,
  "nbformat_minor": 0,
  "metadata": {
    "colab": {
      "provenance": [],
      "mount_file_id": "1GmPtZ_zEy8C-G1geBYvVVXZJaasshxAk",
      "authorship_tag": "ABX9TyNWFEi9X+AvpAvuwj/40UDv",
      "include_colab_link": true
    },
    "kernelspec": {
      "name": "python3",
      "display_name": "Python 3"
    },
    "language_info": {
      "name": "python"
    }
  },
  "cells": [
    {
      "cell_type": "markdown",
      "metadata": {
        "id": "view-in-github",
        "colab_type": "text"
      },
      "source": [
        "<a href=\"https://colab.research.google.com/github/anitha0615/Project_4/blob/main/CreditCardFraudDetection.ipynb\" target=\"_parent\"><img src=\"https://colab.research.google.com/assets/colab-badge.svg\" alt=\"Open In Colab\"/></a>"
      ]
    },
    {
      "cell_type": "code",
      "execution_count": 1,
      "metadata": {
        "colab": {
          "base_uri": "https://localhost:8080/",
          "height": 349
        },
        "id": "9BRD8K7kqiI0",
        "outputId": "943f2f67-90e1-4ca4-9200-50f6981578c5"
      },
      "outputs": [
        {
          "output_type": "error",
          "ename": "ModuleNotFoundError",
          "evalue": "ignored",
          "traceback": [
            "\u001b[0;31m---------------------------------------------------------------------------\u001b[0m",
            "\u001b[0;31mModuleNotFoundError\u001b[0m                       Traceback (most recent call last)",
            "\u001b[0;32m<ipython-input-1-dd956932d044>\u001b[0m in \u001b[0;36m<cell line: 2>\u001b[0;34m()\u001b[0m\n\u001b[1;32m      1\u001b[0m \u001b[0;31m# Import findspark and initialize.\u001b[0m\u001b[0;34m\u001b[0m\u001b[0;34m\u001b[0m\u001b[0m\n\u001b[0;32m----> 2\u001b[0;31m \u001b[0;32mimport\u001b[0m \u001b[0mfindspark\u001b[0m\u001b[0;34m\u001b[0m\u001b[0;34m\u001b[0m\u001b[0m\n\u001b[0m\u001b[1;32m      3\u001b[0m \u001b[0mfindspark\u001b[0m\u001b[0;34m.\u001b[0m\u001b[0minit\u001b[0m\u001b[0;34m(\u001b[0m\u001b[0;34m)\u001b[0m\u001b[0;34m\u001b[0m\u001b[0;34m\u001b[0m\u001b[0m\n",
            "\u001b[0;31mModuleNotFoundError\u001b[0m: No module named 'findspark'",
            "",
            "\u001b[0;31m---------------------------------------------------------------------------\u001b[0;32m\nNOTE: If your import is failing due to a missing package, you can\nmanually install dependencies using either !pip or !apt.\n\nTo view examples of installing some common dependencies, click the\n\"Open Examples\" button below.\n\u001b[0;31m---------------------------------------------------------------------------\u001b[0m\n"
          ],
          "errorDetails": {
            "actions": [
              {
                "action": "open_url",
                "actionText": "Open Examples",
                "url": "/notebooks/snippets/importing_libraries.ipynb"
              }
            ]
          }
        }
      ],
      "source": [
        "# Import findspark and initialize.\n",
        "import findspark\n",
        "findspark.init()"
      ]
    },
    {
      "cell_type": "code",
      "source": [
        "pip install findspark\n"
      ],
      "metadata": {
        "colab": {
          "base_uri": "https://localhost:8080/"
        },
        "id": "ErjeBny8qkE5",
        "outputId": "261522a1-089d-4e7c-e09a-e2d3169c5d75"
      },
      "execution_count": 7,
      "outputs": [
        {
          "output_type": "stream",
          "name": "stdout",
          "text": [
            "Requirement already satisfied: findspark in /usr/local/lib/python3.10/dist-packages (2.0.1)\n"
          ]
        }
      ]
    },
    {
      "cell_type": "code",
      "source": [
        "pip install pyspark"
      ],
      "metadata": {
        "colab": {
          "base_uri": "https://localhost:8080/"
        },
        "id": "tlgeyHqUwM2q",
        "outputId": "f3a7a393-75a7-4765-f6a5-142ebcaf42d2"
      },
      "execution_count": 8,
      "outputs": [
        {
          "output_type": "stream",
          "name": "stdout",
          "text": [
            "Collecting pyspark\n",
            "  Downloading pyspark-3.4.1.tar.gz (310.8 MB)\n",
            "\u001b[2K     \u001b[90m━━━━━━━━━━━━━━━━━━━━━━━━━━━━━━━━━━━━━━━\u001b[0m \u001b[32m310.8/310.8 MB\u001b[0m \u001b[31m4.5 MB/s\u001b[0m eta \u001b[36m0:00:00\u001b[0m\n",
            "\u001b[?25h  Preparing metadata (setup.py) ... \u001b[?25l\u001b[?25hdone\n",
            "Requirement already satisfied: py4j==0.10.9.7 in /usr/local/lib/python3.10/dist-packages (from pyspark) (0.10.9.7)\n",
            "Building wheels for collected packages: pyspark\n",
            "  Building wheel for pyspark (setup.py) ... \u001b[?25l\u001b[?25hdone\n",
            "  Created wheel for pyspark: filename=pyspark-3.4.1-py2.py3-none-any.whl size=311285397 sha256=5fa70136ab3add7df0ca6349123b3e71d950aa675d159fa6a61c09343371bffd\n",
            "  Stored in directory: /root/.cache/pip/wheels/0d/77/a3/ff2f74cc9ab41f8f594dabf0579c2a7c6de920d584206e0834\n",
            "Successfully built pyspark\n",
            "Installing collected packages: pyspark\n",
            "Successfully installed pyspark-3.4.1\n"
          ]
        }
      ]
    },
    {
      "cell_type": "code",
      "source": [
        "import pyspark\n",
        "from pyspark.sql import SparkSession\n",
        "spark = SparkSession.builder.appName(\"CSVReadExample\").getOrCreate()"
      ],
      "metadata": {
        "id": "ofO2e58MwnGp"
      },
      "execution_count": 9,
      "outputs": []
    },
    {
      "cell_type": "code",
      "source": [
        "import findspark\n",
        "findspark.init()"
      ],
      "metadata": {
        "id": "jDogJgunwT7V"
      },
      "execution_count": 10,
      "outputs": []
    },
    {
      "cell_type": "code",
      "source": [
        "# Read the CSV file into a DataFrame\n",
        "csv_file_path = \"/content/card_transdata.csv\"\n",
        "df = spark.read.csv(csv_file_path, header=True, inferSchema=True)"
      ],
      "metadata": {
        "id": "OTvyGKUkwpP6"
      },
      "execution_count": 12,
      "outputs": []
    },
    {
      "cell_type": "markdown",
      "source": [
        "# New Section"
      ],
      "metadata": {
        "id": "fTijqYnVzcFx"
      }
    },
    {
      "cell_type": "code",
      "source": [
        "# Show the first few rows of the DataFrame\n",
        "df.show()"
      ],
      "metadata": {
        "colab": {
          "base_uri": "https://localhost:8080/"
        },
        "id": "mrZJ1AJexSx0",
        "outputId": "ad208dd7-3b11-4bcc-fdc8-9b90673c8791"
      },
      "execution_count": 13,
      "outputs": [
        {
          "output_type": "stream",
          "name": "stdout",
          "text": [
            "+------------------+------------------------------+------------------------------+---------------+---------+---------------+------------+-----+\n",
            "|distance_from_home|distance_from_last_transaction|ratio_to_median_purchase_price|repeat_retailer|used_chip|used_pin_number|online_order|fraud|\n",
            "+------------------+------------------------------+------------------------------+---------------+---------+---------------+------------+-----+\n",
            "| 57.87785658389723|            0.3111400080477545|            1.9459399775518593|            1.0|      1.0|            0.0|         0.0|  0.0|\n",
            "|10.829942699255545|           0.17559150228166587|            1.2942188106198573|            1.0|      0.0|            0.0|         0.0|  0.0|\n",
            "| 5.091079490616996|            0.8051525945853258|           0.42771456119427587|            1.0|      0.0|            0.0|         1.0|  0.0|\n",
            "|2.2475643282963613|              5.60004354707232|           0.36266257805709584|            1.0|      1.0|            0.0|         1.0|  0.0|\n",
            "| 44.19093600261837|            0.5664862680583477|            2.2227672978404707|            1.0|      1.0|            0.0|         1.0|  0.0|\n",
            "| 5.586407674186407|            13.261073268058121|           0.06476846537046335|            1.0|      0.0|            0.0|         0.0|  0.0|\n",
            "|3.7240191247148107|            0.9568379284821842|           0.27846494490815554|            1.0|      0.0|            0.0|         1.0|  0.0|\n",
            "|4.8482465722805665|            0.3207354272228163|            1.2730495235601782|            1.0|      0.0|            1.0|         0.0|  0.0|\n",
            "|0.8766322564943629|            2.5036089266921437|            1.5169993152858177|            0.0|      0.0|            0.0|         0.0|  0.0|\n",
            "|  8.83904670372637|            2.9705122760243827|              2.36168254706846|            1.0|      0.0|            0.0|         1.0|  0.0|\n",
            "|14.263529735069081|            0.1587580860346303|            1.1361019405394772|            1.0|      1.0|            0.0|         1.0|  0.0|\n",
            "|13.592367567909633|             0.240539812984415|            1.3703298614332031|            1.0|      1.0|            0.0|         1.0|  0.0|\n",
            "| 765.2825592612469|            0.3715619621963146|            0.5512447476281009|            1.0|      1.0|            0.0|         0.0|  0.0|\n",
            "| 2.131955665990563|              56.3724005365082|             6.358667321630612|            1.0|      0.0|            0.0|         1.0|  1.0|\n",
            "| 13.95597236704443|           0.27152152834856924|             2.798901124938246|            1.0|      0.0|            0.0|         1.0|  0.0|\n",
            "| 179.6651476857078|           0.12091963755751828|            0.5356404825310114|            1.0|      1.0|            1.0|         1.0|  0.0|\n",
            "|114.51978939161216|            0.7070032526577117|             0.516989925221995|            1.0|      0.0|            0.0|         0.0|  0.0|\n",
            "|3.5896485976213444|             6.247457541963805|            1.8464505265933646|            1.0|      0.0|            0.0|         0.0|  0.0|\n",
            "|11.085152484057602|             34.66135141778853|             2.530758449146248|            1.0|      0.0|            0.0|         1.0|  0.0|\n",
            "| 6.194670766326057|             1.142014235500891|            0.3072166087549278|            1.0|      0.0|            0.0|         0.0|  0.0|\n",
            "+------------------+------------------------------+------------------------------+---------------+---------+---------------+------------+-----+\n",
            "only showing top 20 rows\n",
            "\n"
          ]
        }
      ]
    },
    {
      "cell_type": "code",
      "source": [],
      "metadata": {
        "id": "vumYff2zxco1"
      },
      "execution_count": null,
      "outputs": []
    }
  ]
}