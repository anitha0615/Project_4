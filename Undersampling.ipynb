{
 "cells": [
  {
   "cell_type": "code",
   "execution_count": 39,
   "metadata": {},
   "outputs": [],
   "source": [
    "import pandas as pd\n",
    "import numpy as np\n",
    "from matplotlib import pyplot as plt\n",
    "import seaborn as sns\n",
    "import sklearn\n",
    "from sklearn.model_selection import train_test_split\n",
    "from sklearn.preprocessing import StandardScaler\n",
    "from sklearn.preprocessing import MinMaxScaler\n",
    "from sklearn.ensemble import RandomForestClassifier\n",
    "from sklearn.tree import DecisionTreeRegressor\n",
    "from sklearn.metrics import accuracy_score, recall_score, precision_score\n",
    "from sklearn.metrics import confusion_matrix, plot_confusion_matrix\n",
    "\n",
    "!pip install gradio"
   ]
  },
  {
   "cell_type": "code",
   "execution_count": 40,
   "metadata": {},
   "outputs": [],
   "source": [
    "csv_file_path = \"../Resources/card_transdata.csv\"\n",
    "df = pd.read_csv(csv_file_path)\n"
   ]
  },
  {
   "cell_type": "code",
   "execution_count": 41,
   "metadata": {},
   "outputs": [
    {
     "data": {
      "text/plain": [
       "<AxesSubplot:xlabel='fraud', ylabel='count'>"
      ]
     },
     "execution_count": 41,
     "metadata": {},
     "output_type": "execute_result"
    },
    {
     "data": {
      "image/png": "[encoded data removed]",
      "text/plain": [
       "<Figure size 640x480 with 1 Axes>"
      ]
     },
     "metadata": {},
     "output_type": "display_data"
    }
   ],
   "source": [
    "# UNBALANCED DATA\n",
    "\n",
    "sns.countplot(x='fraud',data=df)"
   ]
  },
  {
   "cell_type": "code",
   "execution_count": 42,
   "metadata": {},
   "outputs": [
    {
     "data": {
      "text/html": [
       "<div>\n",
       "<style scoped>\n",
       "    .dataframe tbody tr th:only-of-type {\n",
       "        vertical-align: middle;\n",
       "    }\n",
       "\n",
       "    .dataframe tbody tr th {\n",
       "        vertical-align: top;\n",
       "    }\n",
       "\n",
       "    .dataframe thead th {\n",
       "        text-align: right;\n",
       "    }\n",
       "</style>\n",
       "<table border=\"1\" class=\"dataframe\">\n",
       "  <thead>\n",
       "    <tr style=\"text-align: right;\">\n",
       "      <th></th>\n",
       "      <th>distance_from_home</th>\n",
       "      <th>distance_from_last_transaction</th>\n",
       "      <th>ratio_to_median_purchase_price</th>\n",
       "      <th>repeat_retailer</th>\n",
       "      <th>used_chip</th>\n",
       "      <th>used_pin_number</th>\n",
       "      <th>online_order</th>\n",
       "      <th>fraud</th>\n",
       "    </tr>\n",
       "  </thead>\n",
       "  <tbody>\n",
       "    <tr>\n",
       "      <th>473380</th>\n",
       "      <td>8.061559</td>\n",
       "      <td>0.123187</td>\n",
       "      <td>8.166728</td>\n",
       "      <td>1.0</td>\n",
       "      <td>0.0</td>\n",
       "      <td>0.0</td>\n",
       "      <td>1.0</td>\n",
       "      <td>1.0</td>\n",
       "    </tr>\n",
       "    <tr>\n",
       "      <th>83787</th>\n",
       "      <td>12.730101</td>\n",
       "      <td>0.160689</td>\n",
       "      <td>0.757105</td>\n",
       "      <td>1.0</td>\n",
       "      <td>0.0</td>\n",
       "      <td>0.0</td>\n",
       "      <td>1.0</td>\n",
       "      <td>0.0</td>\n",
       "    </tr>\n",
       "    <tr>\n",
       "      <th>91748</th>\n",
       "      <td>4.290823</td>\n",
       "      <td>0.961892</td>\n",
       "      <td>0.591690</td>\n",
       "      <td>1.0</td>\n",
       "      <td>0.0</td>\n",
       "      <td>0.0</td>\n",
       "      <td>1.0</td>\n",
       "      <td>0.0</td>\n",
       "    </tr>\n",
       "    <tr>\n",
       "      <th>795268</th>\n",
       "      <td>26.724187</td>\n",
       "      <td>1.556237</td>\n",
       "      <td>0.644938</td>\n",
       "      <td>1.0</td>\n",
       "      <td>0.0</td>\n",
       "      <td>0.0</td>\n",
       "      <td>1.0</td>\n",
       "      <td>0.0</td>\n",
       "    </tr>\n",
       "    <tr>\n",
       "      <th>460771</th>\n",
       "      <td>32.490894</td>\n",
       "      <td>0.469615</td>\n",
       "      <td>0.735941</td>\n",
       "      <td>1.0</td>\n",
       "      <td>1.0</td>\n",
       "      <td>0.0</td>\n",
       "      <td>1.0</td>\n",
       "      <td>0.0</td>\n",
       "    </tr>\n",
       "  </tbody>\n",
       "</table>\n",
       "</div>"
      ],
      "text/plain": [
       "        distance_from_home  distance_from_last_transaction   \n",
       "473380            8.061559                        0.123187  \\\n",
       "83787            12.730101                        0.160689   \n",
       "91748             4.290823                        0.961892   \n",
       "795268           26.724187                        1.556237   \n",
       "460771           32.490894                        0.469615   \n",
       "\n",
       "        ratio_to_median_purchase_price  repeat_retailer  used_chip   \n",
       "473380                        8.166728              1.0        0.0  \\\n",
       "83787                         0.757105              1.0        0.0   \n",
       "91748                         0.591690              1.0        0.0   \n",
       "795268                        0.644938              1.0        0.0   \n",
       "460771                        0.735941              1.0        1.0   \n",
       "\n",
       "        used_pin_number  online_order  fraud  \n",
       "473380              0.0           1.0    1.0  \n",
       "83787               0.0           1.0    0.0  \n",
       "91748               0.0           1.0    0.0  \n",
       "795268              0.0           1.0    0.0  \n",
       "460771              0.0           1.0    0.0  "
      ]
     },
     "execution_count": 42,
     "metadata": {},
     "output_type": "execute_result"
    }
   ],
   "source": [
    "# Balance the class distribution by undersampling the majority class(non-fraud) and oversampling the minority class (fraud)\n",
    "\n",
    "\n",
    "# Shuffle 'df' rows to randomise the order of data\n",
    "df = df.sample(frac=1)\n",
    "\n",
    "\n",
    "# Create new DataFrame fraud_df that contains only rows where the fraud columns has value 1\n",
    "fraud_df = df.loc[df['fraud'] == 1]\n",
    "\n",
    "# Create new DataFrame fraud_df that contains only rows where the fraud columns has value 0.. Slicing row to match numner of fraud rows (87403)\n",
    "non_fraud_df = df.loc[df['fraud'] == 0][:87403]\n",
    "\n",
    "\n",
    "#Concatenate fraud_df and non_fraud_df and create new DataFrame normal_distributed_df with balanced class distribution\n",
    "normal_distributed_df = pd.concat([fraud_df, non_fraud_df]).sample(frac=1, random_state=42)\n",
    "\n",
    "# Shuffle normal_distributed_df to ensure final order of rows is randomized\n",
    "new_df = normal_distributed_df.sample(frac=1, random_state=42)\n",
    "\n",
    "new_df.head()"
   ]
  },
  {
   "cell_type": "code",
   "execution_count": 43,
   "metadata": {},
   "outputs": [
    {
     "name": "stdout",
     "output_type": "stream",
     "text": [
      "Distribution of the Classes in the subsample dataset\n",
      "fraud\n",
      "1.0    0.5\n",
      "0.0    0.5\n",
      "Name: count, dtype: float64\n"
     ]
    }
   ],
   "source": [
    "\n",
    "\n",
    "print('Distribution of the Classes in the subsample dataset')\n",
    "print(new_df['fraud'].value_counts()/len(new_df))\n",
    "\n",
    "\n",
    "\n"
   ]
  },
  {
   "cell_type": "code",
   "execution_count": 44,
   "metadata": {},
   "outputs": [
    {
     "name": "stdout",
     "output_type": "stream",
     "text": [
      "Accuracy - 0.9395679831586655\n",
      "Recall - 0.947011988651963\n",
      "precision - 0.9331349474728347\n"
     ]
    }
   ],
   "source": [
    "# Logistic Regression Model\n",
    "\n",
    "from sklearn.linear_model import LogisticRegression\n",
    "\n",
    "x = new_df.drop(['fraud'],axis=1)\n",
    "y = new_df['fraud']\n",
    "\n",
    "# Split the data using train_test_split\n",
    "# Instantiate the Logistic Regression Model\n",
    "# Assign a random_state parameter of  to the model\n",
    "\n",
    "x_train, x_test, y_train, y_test = train_test_split(x, y, random_state=42)\n",
    "\n",
    "logistic = LogisticRegression(max_iter=1000)\n",
    "\n",
    "\n",
    "# Fit the model using training data\n",
    "\n",
    "model = logistic.fit(x_train, y_train)\n",
    "\n",
    "# Predict and Print the accuracy score of the model\n",
    "\n",
    "prediction = model.predict(x_test)\n",
    "\n",
    "print(\"Accuracy - \" + str(accuracy_score(y_test,prediction)))\n",
    "print(\"Recall - \" + str(recall_score(y_test,prediction)))\n",
    "print(\"precision - \" + str(precision_score(y_test,prediction)))\n"
   ]
  },
  {
   "cell_type": "code",
   "execution_count": 45,
   "metadata": {},
   "outputs": [],
   "source": [
    "\n",
    "# Random Classifier\n",
    "\n",
    "x1 = new_df.drop(['fraud'],axis=1)\n",
    "y1 = new_df['fraud']"
   ]
  },
  {
   "cell_type": "code",
   "execution_count": 46,
   "metadata": {},
   "outputs": [],
   "source": [
    "# Split the data using train_test_split\n",
    "# Instantiate the Random Classfier Model\n",
    "\n",
    "x1_train, x1_test, y1_train, y1_test = train_test_split(x1, y1, random_state=42)\n",
    "\n",
    "randomforest = RandomForestClassifier()"
   ]
  },
  {
   "cell_type": "code",
   "execution_count": 47,
   "metadata": {},
   "outputs": [],
   "source": [
    "# Fit the model using training data\n",
    "\n",
    "model1 = randomforest.fit(x1_train,y1_train)"
   ]
  },
  {
   "cell_type": "code",
   "execution_count": 48,
   "metadata": {},
   "outputs": [
    {
     "name": "stdout",
     "output_type": "stream",
     "text": [
      "Accuracy - 0.9999542355040959\n",
      "Recall - 1.0\n",
      "precision - 0.9999084919472914\n"
     ]
    }
   ],
   "source": [
    "#Predict and print accuracy score\n",
    "\n",
    "prediction1 = model1.predict(x1_test)\n",
    "accuracy_score(y1_test,prediction1)\n",
    "\n",
    "print(\"Accuracy - \" + str(accuracy_score(y1_test,prediction1)))\n",
    "print(\"Recall - \" + str(recall_score(y1_test,prediction1)))\n",
    "print(\"precision - \" + str(precision_score(y1_test,prediction1)))"
   ]
  },
  {
   "cell_type": "code",
   "execution_count": 49,
   "metadata": {},
   "outputs": [],
   "source": [
    "# Decisison Tree\n",
    "\n",
    "x2 = new_df.drop(['fraud'],axis=1)\n",
    "y2 = new_df['fraud']\n",
    "dt = DecisionTreeRegressor()"
   ]
  },
  {
   "cell_type": "code",
   "execution_count": 50,
   "metadata": {},
   "outputs": [],
   "source": [
    "# Training and fitting the models\n",
    "\n",
    "x2_train,x2_test,y2_train,y2_test=train_test_split(x2,y2,test_size=0.3,random_state=123)\n",
    "\n",
    "model2 = dt.fit(x2_train,y2_train)"
   ]
  },
  {
   "cell_type": "code",
   "execution_count": 51,
   "metadata": {},
   "outputs": [
    {
     "name": "stdout",
     "output_type": "stream",
     "text": [
      "Accuracy - 0.9998283818313566\n",
      "Recall - 0.9998093785741518\n",
      "precision - 0.9998474970452552\n"
     ]
    }
   ],
   "source": [
    "#Predict and print accuracy score\n",
    "\n",
    "prediction2 = model2.predict(x2_test)\n",
    "\n",
    "print(\"Accuracy - \" + str(accuracy_score(y2_test,prediction2)))\n",
    "print(\"Recall - \" + str(recall_score(y2_test,prediction2)))\n",
    "print(\"precision - \" + str(precision_score(y2_test,prediction2)))"
   ]
  },
  {
   "cell_type": "code",
   "execution_count": 54,
   "metadata": {},
   "outputs": [
    {
     "name": "stderr",
     "output_type": "stream",
     "text": [
      "C:\\Users\\anith\\AppData\\Local\\Temp\\ipykernel_30568\\1859623662.py:9: GradioDeprecationWarning: Usage of gradio.outputs is deprecated, and will not be supported in the future, please import your components from gradio.components\n",
      "  outputs = gr.outputs.Textbox()\n"
     ]
    }
   ],
   "source": [
    "\n",
    "import gradio as gr\n",
    "def credit_card_features(distance_from_home,\tdistance_from_last_transaction,\tratio_to_median_purchase_price,\trepeat_retailer,\tused_chip,\tused_pin_number,\tonline_order):\n",
    "#turning the arguments into a numpy array\n",
    "  x = np.array([distance_from_home,\tdistance_from_last_transaction,\tratio_to_median_purchase_price,\trepeat_retailer,\tused_chip,\tused_pin_number,\tonline_order])\n",
    "  prediction = model2.predict(x.reshape(1, -1))\n",
    "  return prediction\n",
    "\n",
    "  # The models predicted output for above feature input is output to a text box on the gradio interface\n",
    "outputs = gr.outputs.Textbox()\n",
    "\n",
    "app = gr.Interface(fn=credit_card_features, inputs=['number','number','number','number','number','number','number'], outputs=outputs,description=\"This is a Credit Card  model\")"
   ]
  },
  {
   "cell_type": "code",
   "execution_count": 55,
   "metadata": {},
   "outputs": [
    {
     "name": "stdout",
     "output_type": "stream",
     "text": [
      "Running on local URL:  http://127.0.0.1:7862\n",
      "Running on public URL: https://5e8f002fc8495746b2.gradio.live\n",
      "\n",
      "This share link expires in 72 hours. For free permanent hosting and GPU upgrades, run `gradio deploy` from Terminal to deploy to Spaces (https://huggingface.co/spaces)\n"
     ]
    },
    {
     "data": {
      "text/html": [
       "<div><iframe src=\"https://5e8f002fc8495746b2.gradio.live\" width=\"100%\" height=\"500\" allow=\"autoplay; camera; microphone; clipboard-read; clipboard-write;\" frameborder=\"0\" allowfullscreen></iframe></div>"
      ],
      "text/plain": [
       "<IPython.core.display.HTML object>"
      ]
     },
     "metadata": {},
     "output_type": "display_data"
    },
    {
     "name": "stderr",
     "output_type": "stream",
     "text": [
      "c:\\Users\\anith\\anaconda3\\lib\\site-packages\\sklearn\\base.py:450: UserWarning: X does not have valid feature names, but DecisionTreeRegressor was fitted with feature names\n",
      "  warnings.warn(\n",
      "c:\\Users\\anith\\anaconda3\\lib\\site-packages\\sklearn\\base.py:450: UserWarning: X does not have valid feature names, but DecisionTreeRegressor was fitted with feature names\n",
      "  warnings.warn(\n"
     ]
    },
    {
     "name": "stdout",
     "output_type": "stream",
     "text": [
      "Keyboard interruption in main thread... closing server.\n",
      "Killing tunnel 127.0.0.1:7862 <> https://5e8f002fc8495746b2.gradio.live\n"
     ]
    },
    {
     "data": {
      "text/plain": []
     },
     "execution_count": 55,
     "metadata": {},
     "output_type": "execute_result"
    }
   ],
   "source": [
    "app.launch(share=True,debug=True)"
   ]
  },
  {
   "cell_type": "code",
   "execution_count": null,
   "metadata": {},
   "outputs": [],
   "source": []
  }
 ],
 "metadata": {
  "kernelspec": {
   "display_name": "base",
   "language": "python",
   "name": "python3"
  },
  "language_info": {
   "codemirror_mode": {
    "name": "ipython",
    "version": 3
   },
   "file_extension": ".py",
   "mimetype": "text/x-python",
   "name": "python",
   "nbconvert_exporter": "python",
   "pygments_lexer": "ipython3",
   "version": "3.9.13"
  },
  "orig_nbformat": 4
 },
 "nbformat": 4,
 "nbformat_minor": 2
}
