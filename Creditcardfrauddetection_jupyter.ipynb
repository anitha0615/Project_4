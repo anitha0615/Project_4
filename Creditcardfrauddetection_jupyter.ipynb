{
 "cells": [
  {
   "cell_type": "code",
   "execution_count": 53,
   "metadata": {},
   "outputs": [
    {
     "name": "stdout",
     "output_type": "stream",
     "text": [
      "Requirement already satisfied: pyspark in c:\\users\\anith\\anaconda3\\lib\\site-packages (3.2.1)\n",
      "Requirement already satisfied: py4j==0.10.9.3 in c:\\users\\anith\\anaconda3\\lib\\site-packages (from pyspark) (0.10.9.3)\n",
      "Requirement already satisfied: findspark in c:\\users\\anith\\anaconda3\\lib\\site-packages (2.0.1)\n",
      "Requirement already satisfied: gradio in c:\\users\\anith\\anaconda3\\lib\\site-packages (3.40.1)\n",
      "Requirement already satisfied: numpy~=1.0 in c:\\users\\anith\\anaconda3\\lib\\site-packages (from gradio) (1.21.5)\n",
      "Requirement already satisfied: pydub in c:\\users\\anith\\anaconda3\\lib\\site-packages (from gradio) (0.25.1)\n",
      "Requirement already satisfied: uvicorn>=0.14.0 in c:\\users\\anith\\anaconda3\\lib\\site-packages (from gradio) (0.23.2)\n",
      "Requirement already satisfied: importlib-resources<7.0,>=1.3 in c:\\users\\anith\\anaconda3\\lib\\site-packages (from gradio) (6.0.1)\n",
      "Requirement already satisfied: gradio-client>=0.4.0 in c:\\users\\anith\\anaconda3\\lib\\site-packages (from gradio) (0.4.0)\n",
      "Requirement already satisfied: pydantic!=1.8,!=1.8.1,!=2.0.0,!=2.0.1,<3.0.0,>=1.7.4 in c:\\users\\anith\\anaconda3\\lib\\site-packages (from gradio) (2.1.1)\n",
      "Requirement already satisfied: markdown-it-py[linkify]>=2.0.0 in c:\\users\\anith\\anaconda3\\lib\\site-packages (from gradio) (2.2.0)\n",
      "Requirement already satisfied: markupsafe~=2.0 in c:\\users\\anith\\anaconda3\\lib\\site-packages (from gradio) (2.0.1)\n",
      "Requirement already satisfied: orjson~=3.0 in c:\\users\\anith\\anaconda3\\lib\\site-packages (from gradio) (3.9.4)\n",
      "Requirement already satisfied: fastapi in c:\\users\\anith\\anaconda3\\lib\\site-packages (from gradio) (0.101.1)\n",
      "Requirement already satisfied: huggingface-hub>=0.14.0 in c:\\users\\anith\\anaconda3\\lib\\site-packages (from gradio) (0.16.4)\n",
      "Requirement already satisfied: aiofiles<24.0,>=22.0 in c:\\users\\anith\\anaconda3\\lib\\site-packages (from gradio) (23.2.1)\n",
      "Requirement already satisfied: typing-extensions~=4.0 in c:\\users\\anith\\anaconda3\\lib\\site-packages (from gradio) (4.7.1)\n",
      "Requirement already satisfied: httpx in c:\\users\\anith\\anaconda3\\lib\\site-packages (from gradio) (0.24.1)\n",
      "Requirement already satisfied: mdit-py-plugins<=0.3.3 in c:\\users\\anith\\anaconda3\\lib\\site-packages (from gradio) (0.3.3)\n",
      "Requirement already satisfied: semantic-version~=2.0 in c:\\users\\anith\\anaconda3\\lib\\site-packages (from gradio) (2.10.0)\n",
      "Requirement already satisfied: pyyaml<7.0,>=5.0 in c:\\users\\anith\\anaconda3\\lib\\site-packages (from gradio) (6.0)\n",
      "Requirement already satisfied: pillow<11.0,>=8.0 in c:\\users\\anith\\anaconda3\\lib\\site-packages (from gradio) (9.2.0)\n",
      "Requirement already satisfied: pandas<3.0,>=1.0 in c:\\users\\anith\\anaconda3\\lib\\site-packages (from gradio) (2.0.0)\n",
      "Requirement already satisfied: aiohttp~=3.0 in c:\\users\\anith\\anaconda3\\lib\\site-packages (from gradio) (3.8.5)\n",
      "Requirement already satisfied: ffmpy in c:\\users\\anith\\anaconda3\\lib\\site-packages (from gradio) (0.3.1)\n",
      "Requirement already satisfied: requests~=2.0 in c:\\users\\anith\\anaconda3\\lib\\site-packages (from gradio) (2.28.1)\n",
      "Requirement already satisfied: python-multipart in c:\\users\\anith\\anaconda3\\lib\\site-packages (from gradio) (0.0.6)\n",
      "Requirement already satisfied: websockets<12.0,>=10.0 in c:\\users\\anith\\anaconda3\\lib\\site-packages (from gradio) (11.0.3)\n",
      "Requirement already satisfied: packaging in c:\\users\\anith\\anaconda3\\lib\\site-packages (from gradio) (21.3)\n",
      "Requirement already satisfied: matplotlib~=3.0 in c:\\users\\anith\\anaconda3\\lib\\site-packages (from gradio) (3.5.2)\n",
      "Requirement already satisfied: altair<6.0,>=4.2.0 in c:\\users\\anith\\anaconda3\\lib\\site-packages (from gradio) (5.0.1)\n",
      "Requirement already satisfied: jinja2<4.0 in c:\\users\\anith\\anaconda3\\lib\\site-packages (from gradio) (2.11.3)\n",
      "Requirement already satisfied: yarl<2.0,>=1.0 in c:\\users\\anith\\anaconda3\\lib\\site-packages (from aiohttp~=3.0->gradio) (1.9.2)\n",
      "Requirement already satisfied: async-timeout<5.0,>=4.0.0a3 in c:\\users\\anith\\anaconda3\\lib\\site-packages (from aiohttp~=3.0->gradio) (4.0.3)\n",
      "Requirement already satisfied: aiosignal>=1.1.2 in c:\\users\\anith\\anaconda3\\lib\\site-packages (from aiohttp~=3.0->gradio) (1.3.1)\n",
      "Requirement already satisfied: charset-normalizer<4.0,>=2.0 in c:\\users\\anith\\anaconda3\\lib\\site-packages (from aiohttp~=3.0->gradio) (2.0.4)\n",
      "Requirement already satisfied: frozenlist>=1.1.1 in c:\\users\\anith\\anaconda3\\lib\\site-packages (from aiohttp~=3.0->gradio) (1.4.0)\n",
      "Requirement already satisfied: attrs>=17.3.0 in c:\\users\\anith\\anaconda3\\lib\\site-packages (from aiohttp~=3.0->gradio) (21.4.0)\n",
      "Requirement already satisfied: multidict<7.0,>=4.5 in c:\\users\\anith\\anaconda3\\lib\\site-packages (from aiohttp~=3.0->gradio) (6.0.4)\n",
      "Requirement already satisfied: jsonschema>=3.0 in c:\\users\\anith\\anaconda3\\lib\\site-packages (from altair<6.0,>=4.2.0->gradio) (4.16.0)\n",
      "Requirement already satisfied: toolz in c:\\users\\anith\\anaconda3\\lib\\site-packages (from altair<6.0,>=4.2.0->gradio) (0.11.2)\n",
      "Requirement already satisfied: fsspec in c:\\users\\anith\\anaconda3\\lib\\site-packages (from gradio-client>=0.4.0->gradio) (2022.7.1)\n",
      "Requirement already satisfied: filelock in c:\\users\\anith\\anaconda3\\lib\\site-packages (from huggingface-hub>=0.14.0->gradio) (3.6.0)\n",
      "Requirement already satisfied: tqdm>=4.42.1 in c:\\users\\anith\\anaconda3\\lib\\site-packages (from huggingface-hub>=0.14.0->gradio) (4.64.1)\n",
      "Requirement already satisfied: zipp>=3.1.0 in c:\\users\\anith\\anaconda3\\lib\\site-packages (from importlib-resources<7.0,>=1.3->gradio) (3.8.0)\n",
      "Requirement already satisfied: mdurl~=0.1 in c:\\users\\anith\\anaconda3\\lib\\site-packages (from markdown-it-py[linkify]>=2.0.0->gradio) (0.1.2)\n",
      "Requirement already satisfied: linkify-it-py<3,>=1 in c:\\users\\anith\\anaconda3\\lib\\site-packages (from markdown-it-py[linkify]>=2.0.0->gradio) (2.0.2)\n",
      "Requirement already satisfied: cycler>=0.10 in c:\\users\\anith\\anaconda3\\lib\\site-packages (from matplotlib~=3.0->gradio) (0.11.0)\n",
      "Requirement already satisfied: pyparsing>=2.2.1 in c:\\users\\anith\\anaconda3\\lib\\site-packages (from matplotlib~=3.0->gradio) (3.0.9)\n",
      "Requirement already satisfied: python-dateutil>=2.7 in c:\\users\\anith\\anaconda3\\lib\\site-packages (from matplotlib~=3.0->gradio) (2.8.2)\n",
      "Requirement already satisfied: fonttools>=4.22.0 in c:\\users\\anith\\anaconda3\\lib\\site-packages (from matplotlib~=3.0->gradio) (4.25.0)\n",
      "Requirement already satisfied: kiwisolver>=1.0.1 in c:\\users\\anith\\anaconda3\\lib\\site-packages (from matplotlib~=3.0->gradio) (1.4.2)\n",
      "Requirement already satisfied: pytz>=2020.1 in c:\\users\\anith\\anaconda3\\lib\\site-packages (from pandas<3.0,>=1.0->gradio) (2022.1)\n",
      "Requirement already satisfied: tzdata>=2022.1 in c:\\users\\anith\\anaconda3\\lib\\site-packages (from pandas<3.0,>=1.0->gradio) (2023.3)\n",
      "Requirement already satisfied: annotated-types>=0.4.0 in c:\\users\\anith\\anaconda3\\lib\\site-packages (from pydantic!=1.8,!=1.8.1,!=2.0.0,!=2.0.1,<3.0.0,>=1.7.4->gradio) (0.5.0)\n",
      "Requirement already satisfied: pydantic-core==2.4.0 in c:\\users\\anith\\anaconda3\\lib\\site-packages (from pydantic!=1.8,!=1.8.1,!=2.0.0,!=2.0.1,<3.0.0,>=1.7.4->gradio) (2.4.0)\n",
      "Requirement already satisfied: urllib3<1.27,>=1.21.1 in c:\\users\\anith\\anaconda3\\lib\\site-packages (from requests~=2.0->gradio) (1.26.15)\n",
      "Requirement already satisfied: certifi>=2017.4.17 in c:\\users\\anith\\anaconda3\\lib\\site-packages (from requests~=2.0->gradio) (2023.7.22)\n",
      "Requirement already satisfied: idna<4,>=2.5 in c:\\users\\anith\\anaconda3\\lib\\site-packages (from requests~=2.0->gradio) (3.3)\n",
      "Requirement already satisfied: click>=7.0 in c:\\users\\anith\\anaconda3\\lib\\site-packages (from uvicorn>=0.14.0->gradio) (8.0.4)\n",
      "Requirement already satisfied: h11>=0.8 in c:\\users\\anith\\anaconda3\\lib\\site-packages (from uvicorn>=0.14.0->gradio) (0.14.0)\n",
      "Requirement already satisfied: starlette<0.28.0,>=0.27.0 in c:\\users\\anith\\anaconda3\\lib\\site-packages (from fastapi->gradio) (0.27.0)\n",
      "Requirement already satisfied: sniffio in c:\\users\\anith\\anaconda3\\lib\\site-packages (from httpx->gradio) (1.2.0)\n",
      "Requirement already satisfied: httpcore<0.18.0,>=0.15.0 in c:\\users\\anith\\anaconda3\\lib\\site-packages (from httpx->gradio) (0.17.3)\n",
      "Requirement already satisfied: colorama in c:\\users\\anith\\anaconda3\\lib\\site-packages (from click>=7.0->uvicorn>=0.14.0->gradio) (0.4.5)\n",
      "Requirement already satisfied: anyio<5.0,>=3.0 in c:\\users\\anith\\anaconda3\\lib\\site-packages (from httpcore<0.18.0,>=0.15.0->httpx->gradio) (3.5.0)\n",
      "Requirement already satisfied: pyrsistent!=0.17.0,!=0.17.1,!=0.17.2,>=0.14.0 in c:\\users\\anith\\anaconda3\\lib\\site-packages (from jsonschema>=3.0->altair<6.0,>=4.2.0->gradio) (0.18.0)\n",
      "Requirement already satisfied: uc-micro-py in c:\\users\\anith\\anaconda3\\lib\\site-packages (from linkify-it-py<3,>=1->markdown-it-py[linkify]>=2.0.0->gradio) (1.0.2)\n",
      "Requirement already satisfied: six>=1.5 in c:\\users\\anith\\anaconda3\\lib\\site-packages (from python-dateutil>=2.7->matplotlib~=3.0->gradio) (1.16.0)\n"
     ]
    }
   ],
   "source": [
    "# Adding pip installs to ensure pyspark, findspark and gradio are installed\n",
    "!pip install pyspark\n",
    "!pip install findspark\n",
    "!pip install gradio"
   ]
  },
  {
   "cell_type": "code",
   "execution_count": 1,
   "metadata": {},
   "outputs": [],
   "source": [
    "import pyspark\n",
    "from pyspark.sql import SparkSession\n",
    "spark = SparkSession.builder.appName(\"CSVReadExample\").getOrCreate()"
   ]
  },
  {
   "cell_type": "code",
   "execution_count": 2,
   "metadata": {},
   "outputs": [],
   "source": [
    "import findspark\n",
    "findspark.init()"
   ]
  },
  {
   "cell_type": "code",
   "execution_count": 3,
   "metadata": {},
   "outputs": [],
   "source": [
    "# Read the CSV file into a DataFrame and limit rows to 250,000\n",
    "csv_file_path = \"Resources/card_transdata.csv\"\n",
    "df = spark.read.csv(csv_file_path, header=True, inferSchema=True)\n",
    "df = df.limit(250000)"
   ]
  },
  {
   "cell_type": "code",
   "execution_count": 4,
   "metadata": {},
   "outputs": [
    {
     "name": "stdout",
     "output_type": "stream",
     "text": [
      "+------------------+------------------------------+------------------------------+---------------+---------+---------------+------------+-----+\n",
      "|distance_from_home|distance_from_last_transaction|ratio_to_median_purchase_price|repeat_retailer|used_chip|used_pin_number|online_order|fraud|\n",
      "+------------------+------------------------------+------------------------------+---------------+---------+---------------+------------+-----+\n",
      "| 57.87785658389723|            0.3111400080477545|            1.9459399775518593|            1.0|      1.0|            0.0|         0.0|  0.0|\n",
      "|10.829942699255545|           0.17559150228166587|            1.2942188106198573|            1.0|      0.0|            0.0|         0.0|  0.0|\n",
      "| 5.091079490616996|            0.8051525945853258|           0.42771456119427587|            1.0|      0.0|            0.0|         1.0|  0.0|\n",
      "|2.2475643282963613|              5.60004354707232|           0.36266257805709584|            1.0|      1.0|            0.0|         1.0|  0.0|\n",
      "| 44.19093600261837|            0.5664862680583477|            2.2227672978404707|            1.0|      1.0|            0.0|         1.0|  0.0|\n",
      "| 5.586407674186407|            13.261073268058121|           0.06476846537046335|            1.0|      0.0|            0.0|         0.0|  0.0|\n",
      "|3.7240191247148107|            0.9568379284821842|           0.27846494490815554|            1.0|      0.0|            0.0|         1.0|  0.0|\n",
      "|4.8482465722805665|            0.3207354272228163|            1.2730495235601782|            1.0|      0.0|            1.0|         0.0|  0.0|\n",
      "|0.8766322564943629|            2.5036089266921437|            1.5169993152858177|            0.0|      0.0|            0.0|         0.0|  0.0|\n",
      "|  8.83904670372637|            2.9705122760243827|              2.36168254706846|            1.0|      0.0|            0.0|         1.0|  0.0|\n",
      "|14.263529735069081|            0.1587580860346303|            1.1361019405394772|            1.0|      1.0|            0.0|         1.0|  0.0|\n",
      "|13.592367567909633|             0.240539812984415|            1.3703298614332031|            1.0|      1.0|            0.0|         1.0|  0.0|\n",
      "| 765.2825592612469|            0.3715619621963146|            0.5512447476281009|            1.0|      1.0|            0.0|         0.0|  0.0|\n",
      "| 2.131955665990563|              56.3724005365082|             6.358667321630612|            1.0|      0.0|            0.0|         1.0|  1.0|\n",
      "| 13.95597236704443|           0.27152152834856924|             2.798901124938246|            1.0|      0.0|            0.0|         1.0|  0.0|\n",
      "| 179.6651476857078|           0.12091963755751828|            0.5356404825310114|            1.0|      1.0|            1.0|         1.0|  0.0|\n",
      "|114.51978939161216|            0.7070032526577117|             0.516989925221995|            1.0|      0.0|            0.0|         0.0|  0.0|\n",
      "|3.5896485976213444|             6.247457541963805|            1.8464505265933646|            1.0|      0.0|            0.0|         0.0|  0.0|\n",
      "|11.085152484057602|             34.66135141778853|             2.530758449146248|            1.0|      0.0|            0.0|         1.0|  0.0|\n",
      "| 6.194670766326057|             1.142014235500891|            0.3072166087549278|            1.0|      0.0|            0.0|         0.0|  0.0|\n",
      "+------------------+------------------------------+------------------------------+---------------+---------+---------------+------------+-----+\n",
      "only showing top 20 rows\n",
      "\n"
     ]
    }
   ],
   "source": [
    " #Show the first few rows of the DataFrame\n",
    "df.show()"
   ]
  },
  {
   "cell_type": "code",
   "execution_count": 5,
   "metadata": {},
   "outputs": [
    {
     "data": {
      "text/plain": [
       "250000"
      ]
     },
     "execution_count": 5,
     "metadata": {},
     "output_type": "execute_result"
    }
   ],
   "source": [
    "df.count()"
   ]
  },
  {
   "cell_type": "code",
   "execution_count": 6,
   "metadata": {},
   "outputs": [],
   "source": [
    "dfgr = df.groupby( \"fraud\").mean()"
   ]
  },
  {
   "cell_type": "code",
   "execution_count": 7,
   "metadata": {},
   "outputs": [
    {
     "name": "stdout",
     "output_type": "stream",
     "text": [
      "+-----+-----------------------+-----------------------------------+-----------------------------------+--------------------+------------------+--------------------+------------------+----------+\n",
      "|fraud|avg(distance_from_home)|avg(distance_from_last_transaction)|avg(ratio_to_median_purchase_price)|avg(repeat_retailer)|    avg(used_chip)|avg(used_pin_number)| avg(online_order)|avg(fraud)|\n",
      "+-----+-----------------------+-----------------------------------+-----------------------------------+--------------------+------------------+--------------------+------------------+----------+\n",
      "|  0.0|     22.906292535637263|                  4.263431823144445|                 1.4195719150866895|  0.8817976740620688|0.3603802098162465|   0.111233272739219|0.6244464399132701|       0.0|\n",
      "|  1.0|      66.38104591484162|                 12.515710090663157|                  5.982628542796239|  0.8815941027413039|0.2555632342778162| 0.00322506334945865|0.9480764800737157|       1.0|\n",
      "+-----+-----------------------+-----------------------------------+-----------------------------------+--------------------+------------------+--------------------+------------------+----------+\n",
      "\n"
     ]
    }
   ],
   "source": [
    "from pyspark.sql.functions import col, when\n",
    "from pyspark.sql.types import StringType,BooleanType,DateType\n",
    "\n",
    "dfgr.show()\n",
    "\n",
    "dfgr_pd = dfgr.toPandas()"
   ]
  },
  {
   "cell_type": "code",
   "execution_count": 8,
   "metadata": {},
   "outputs": [],
   "source": [
    "import numpy as np\n",
    "import pandas as pd\n",
    "import gradio as gr\n",
    "import warnings\n",
    "warnings.filterwarnings('ignore')\n",
    "import matplotlib.pyplot as plt\n",
    "import seaborn as sns\n",
    "import sklearn\n",
    "from sklearn.model_selection import train_test_split\n",
    "from sklearn.preprocessing import StandardScaler\n",
    "from sklearn.preprocessing import MinMaxScaler\n",
    "from sklearn.tree import DecisionTreeClassifier\n",
    "from sklearn.linear_model import LogisticRegression\n",
    "from imblearn.over_sampling import RandomOverSampler"
   ]
  },
  {
   "cell_type": "code",
   "execution_count": 9,
   "metadata": {},
   "outputs": [
    {
     "data": {
      "image/png": "[encoded data removed]",
      "text/plain": [
       "<Figure size 640x480 with 1 Axes>"
      ]
     },
     "metadata": {},
     "output_type": "display_data"
    },
    {
     "data": {
      "image/png": "[encoded data removed]",
      "text/plain": [
       "<Figure size 640x480 with 1 Axes>"
      ]
     },
     "metadata": {},
     "output_type": "display_data"
    },
    {
     "data": {
      "image/png": "[encoded data removed]",
      "text/plain": [
       "<Figure size 640x480 with 1 Axes>"
      ]
     },
     "metadata": {},
     "output_type": "display_data"
    }
   ],
   "source": [
    "#for i in dfgr_pd:\n",
    "#print(i)\n",
    "plt.title(\"Fraud wrt distance from home\")\n",
    "plt.bar([\"Normal\",\"Fraud\"],dfgr_pd[\"avg(distance_from_home)\"])\n",
    "plt.xlabel(\"Type\")\n",
    "plt.ylabel(\"Distance\")\n",
    "plt.show()\n",
    "plt.title(\"Fraud wrt ratio to median purchase price\")\n",
    "plt.bar([\"Normal\",\"Fraud\"],dfgr_pd[\"avg(ratio_to_median_purchase_price)\"])\n",
    "plt.xlabel(\"Type\")\n",
    "plt.ylabel(\"Distance\")\n",
    "plt.show()\n",
    "\n",
    "plt.title(\"Fraud wrt online orders\")\n",
    "plt.bar([\"Normal\",\"Fraud\"],dfgr_pd[\"avg(online_order)\"])\n",
    "plt.xlabel(\"Type\")\n",
    "plt.ylabel(\"Distance\")\n",
    "plt.show()\n"
   ]
  },
  {
   "cell_type": "code",
   "execution_count": 10,
   "metadata": {},
   "outputs": [],
   "source": [
    "#convert the original spark dataframe to a pandas dataframe\n",
    "original_df = df.toPandas()\n",
    "# create the labels set (y) from the \"fraud\" column,a nd then create the features (X) DataFrame from the remaining columns.\n",
    "# Separate the data into labels and features\n",
    "# Separate the y variable, the labels\n",
    "\n",
    "y = original_df['fraud']\n",
    "\n",
    "# Separate the X variable, the features\n",
    "X = original_df.drop(columns=['fraud'])"
   ]
  },
  {
   "cell_type": "code",
   "execution_count": 11,
   "metadata": {},
   "outputs": [
    {
     "data": {
      "text/html": [
       "<div>\n",
       "<style scoped>\n",
       "    .dataframe tbody tr th:only-of-type {\n",
       "        vertical-align: middle;\n",
       "    }\n",
       "\n",
       "    .dataframe tbody tr th {\n",
       "        vertical-align: top;\n",
       "    }\n",
       "\n",
       "    .dataframe thead th {\n",
       "        text-align: right;\n",
       "    }\n",
       "</style>\n",
       "<table border=\"1\" class=\"dataframe\">\n",
       "  <thead>\n",
       "    <tr style=\"text-align: right;\">\n",
       "      <th></th>\n",
       "      <th>distance_from_home</th>\n",
       "      <th>distance_from_last_transaction</th>\n",
       "      <th>ratio_to_median_purchase_price</th>\n",
       "      <th>repeat_retailer</th>\n",
       "      <th>used_chip</th>\n",
       "      <th>used_pin_number</th>\n",
       "      <th>online_order</th>\n",
       "    </tr>\n",
       "  </thead>\n",
       "  <tbody>\n",
       "    <tr>\n",
       "      <th>0</th>\n",
       "      <td>57.877857</td>\n",
       "      <td>0.311140</td>\n",
       "      <td>1.945940</td>\n",
       "      <td>1.0</td>\n",
       "      <td>1.0</td>\n",
       "      <td>0.0</td>\n",
       "      <td>0.0</td>\n",
       "    </tr>\n",
       "    <tr>\n",
       "      <th>1</th>\n",
       "      <td>10.829943</td>\n",
       "      <td>0.175592</td>\n",
       "      <td>1.294219</td>\n",
       "      <td>1.0</td>\n",
       "      <td>0.0</td>\n",
       "      <td>0.0</td>\n",
       "      <td>0.0</td>\n",
       "    </tr>\n",
       "    <tr>\n",
       "      <th>2</th>\n",
       "      <td>5.091079</td>\n",
       "      <td>0.805153</td>\n",
       "      <td>0.427715</td>\n",
       "      <td>1.0</td>\n",
       "      <td>0.0</td>\n",
       "      <td>0.0</td>\n",
       "      <td>1.0</td>\n",
       "    </tr>\n",
       "    <tr>\n",
       "      <th>3</th>\n",
       "      <td>2.247564</td>\n",
       "      <td>5.600044</td>\n",
       "      <td>0.362663</td>\n",
       "      <td>1.0</td>\n",
       "      <td>1.0</td>\n",
       "      <td>0.0</td>\n",
       "      <td>1.0</td>\n",
       "    </tr>\n",
       "    <tr>\n",
       "      <th>4</th>\n",
       "      <td>44.190936</td>\n",
       "      <td>0.566486</td>\n",
       "      <td>2.222767</td>\n",
       "      <td>1.0</td>\n",
       "      <td>1.0</td>\n",
       "      <td>0.0</td>\n",
       "      <td>1.0</td>\n",
       "    </tr>\n",
       "  </tbody>\n",
       "</table>\n",
       "</div>"
      ],
      "text/plain": [
       "   distance_from_home  distance_from_last_transaction   \n",
       "0           57.877857                        0.311140  \\\n",
       "1           10.829943                        0.175592   \n",
       "2            5.091079                        0.805153   \n",
       "3            2.247564                        5.600044   \n",
       "4           44.190936                        0.566486   \n",
       "\n",
       "   ratio_to_median_purchase_price  repeat_retailer  used_chip   \n",
       "0                        1.945940              1.0        1.0  \\\n",
       "1                        1.294219              1.0        0.0   \n",
       "2                        0.427715              1.0        0.0   \n",
       "3                        0.362663              1.0        1.0   \n",
       "4                        2.222767              1.0        1.0   \n",
       "\n",
       "   used_pin_number  online_order  \n",
       "0              0.0           0.0  \n",
       "1              0.0           0.0  \n",
       "2              0.0           1.0  \n",
       "3              0.0           1.0  \n",
       "4              0.0           1.0  "
      ]
     },
     "execution_count": 11,
     "metadata": {},
     "output_type": "execute_result"
    }
   ],
   "source": [
    "X.head()"
   ]
  },
  {
   "cell_type": "code",
   "execution_count": 12,
   "metadata": {},
   "outputs": [
    {
     "data": {
      "text/plain": [
       "fraud\n",
       "0.0    228295\n",
       "1.0     21705\n",
       "Name: count, dtype: int64"
      ]
     },
     "execution_count": 12,
     "metadata": {},
     "output_type": "execute_result"
    }
   ],
   "source": [
    "# Check the balance of our target values\n",
    "y.value_counts()"
   ]
  },
  {
   "cell_type": "code",
   "execution_count": 13,
   "metadata": {},
   "outputs": [],
   "source": [
    " # Split the data into training and testing datasets by using train_test_split.\n",
    " # Split the data using train_test_split\n",
    "# Assign a random_state of 1 to the function\n",
    "\n",
    "X_train, X_test, y_train, y_test = train_test_split(X, y, random_state=1, stratify=y)"
   ]
  },
  {
   "cell_type": "code",
   "execution_count": 14,
   "metadata": {},
   "outputs": [],
   "source": [
    "#Create a Logistic Regression Model with the Original Data\n",
    "#Fit a logistic regression model by using the training data (X_train and y_train).\n",
    "\n",
    "# Instantiate the Logistic Regression Model\n",
    "# Assign a random_state parameter of  to the model\n",
    "logistic_regression_model = LogisticRegression(random_state=1, max_iter=1000)\n",
    "\n",
    "# Fit the model using training data\n",
    "training_data_model = logistic_regression_model.fit(X_train, y_train)"
   ]
  },
  {
   "cell_type": "code",
   "execution_count": 15,
   "metadata": {},
   "outputs": [],
   "source": [
    "#Save the predictions on the testing data labels by using the testing feature data (X_test) and the fitted model.\n",
    "# Make a prediction using the testing data\n",
    "prediction_with_test_data = logistic_regression_model.predict(X_test)"
   ]
  },
  {
   "cell_type": "code",
   "execution_count": 16,
   "metadata": {},
   "outputs": [
    {
     "name": "stdout",
     "output_type": "stream",
     "text": [
      "Balanced_accuracy_score : 0.7972733932077058\n"
     ]
    }
   ],
   "source": [
    "# Print the balanced_accuracy score of the model\n",
    "#balanced_accuracy_score(y_test,training_predictions)\n",
    "from sklearn.metrics import balanced_accuracy_score, confusion_matrix, classification_report\n",
    "balanced_accuracy_score = balanced_accuracy_score(y_test,prediction_with_test_data)\n",
    "print(f\"Balanced_accuracy_score : {balanced_accuracy_score}\")"
   ]
  },
  {
   "cell_type": "code",
   "execution_count": 17,
   "metadata": {},
   "outputs": [
    {
     "name": "stdout",
     "output_type": "stream",
     "text": [
      "Confusion Matrix is : \n",
      "[[56727   347]\n",
      " [ 2167  3259]]\n"
     ]
    }
   ],
   "source": [
    "# Generate a confusion matrix for the model\n",
    "generat_confusion_matrix = confusion_matrix(y_test,prediction_with_test_data)\n",
    "print('Confusion Matrix is : ')\n",
    "print(generat_confusion_matrix)"
   ]
  },
  {
   "cell_type": "code",
   "execution_count": 18,
   "metadata": {},
   "outputs": [
    {
     "name": "stdout",
     "output_type": "stream",
     "text": [
      "accuracy: 0.974672\n"
     ]
    }
   ],
   "source": [
    "#instantiate StandardScaler object\n",
    "scaler = StandardScaler()\n",
    "\n",
    "#scale data\n",
    "x_train_scaled = scaler.fit_transform(X_train)\n",
    "\n",
    "x_test_scaled = scaler.fit_transform(X_test)\n",
    "\n",
    "#import model object\n",
    "from sklearn.neural_network import MLPClassifier\n",
    "model =  MLPClassifier(max_iter=1000,  alpha=1)\n",
    "\n",
    "#train model on training data\n",
    "model.fit(x_train_scaled, y_train)\n",
    "\n",
    "#getting model performance on test data\n",
    "print(\"accuracy:\", model.score(x_test_scaled, y_test))"
   ]
  },
  {
   "cell_type": "code",
   "execution_count": 19,
   "metadata": {},
   "outputs": [
    {
     "name": "stdout",
     "output_type": "stream",
     "text": [
      "Classificication Report For The Model is\n",
      "              precision    recall  f1-score   support\n",
      "\n",
      "         0.0       0.96      0.99      0.98     57074\n",
      "         1.0       0.90      0.60      0.72      5426\n",
      "\n",
      "    accuracy                           0.96     62500\n",
      "   macro avg       0.93      0.80      0.85     62500\n",
      "weighted avg       0.96      0.96      0.96     62500\n",
      "\n"
     ]
    }
   ],
   "source": [
    "# Print the classification report for the model\n",
    "classification_report_model = classification_report(y_test,prediction_with_test_data)\n",
    "print('Classificication Report For The Model is')\n",
    "print(classification_report_model)"
   ]
  },
  {
   "cell_type": "code",
   "execution_count": 20,
   "metadata": {},
   "outputs": [],
   "source": [
    "# The following method accepts inputs from the gradio interface and provides prediction output \n",
    "def credit_card_features(distance_from_home,\tdistance_from_last_transaction,\tratio_to_median_purchase_price,\trepeat_retailer,\tused_chip,\tused_pin_number,\tonline_order):\n",
    "#turning the arguments into a numpy array\n",
    "  x = np.array([distance_from_home,\tdistance_from_last_transaction,\tratio_to_median_purchase_price,\trepeat_retailer,\tused_chip,\tused_pin_number,\tonline_order])\n",
    "  prediction = model.predict(x.reshape(1, -1))\n",
    "  return prediction\n",
    "\n",
    "# The models predicted output for above feature input is output to a text box on the gradio interface\n",
    "outputs = gr.outputs.Textbox()\n",
    "\n",
    "app = gr.Interface(fn=credit_card_features, inputs=['number','number','number','number','number','number','number'], outputs=outputs,description=\"This is a Credit Card  model\")"
   ]
  },
  {
   "cell_type": "code",
   "execution_count": 21,
   "metadata": {},
   "outputs": [
    {
     "name": "stdout",
     "output_type": "stream",
     "text": [
      "Running on local URL:  http://127.0.0.1:7860\n",
      "Running on public URL: https://4c906458fd2016fe54.gradio.live\n",
      "\n",
      "This share link expires in 72 hours. For free permanent hosting and GPU upgrades, run `gradio deploy` from Terminal to deploy to Spaces (https://huggingface.co/spaces)\n"
     ]
    },
    {
     "data": {
      "text/html": [
       "<div><iframe src=\"https://4c906458fd2016fe54.gradio.live\" width=\"100%\" height=\"500\" allow=\"autoplay; camera; microphone; clipboard-read; clipboard-write;\" frameborder=\"0\" allowfullscreen></iframe></div>"
      ],
      "text/plain": [
       "<IPython.core.display.HTML object>"
      ]
     },
     "metadata": {},
     "output_type": "display_data"
    },
    {
     "name": "stdout",
     "output_type": "stream",
     "text": [
      "Keyboard interruption in main thread... closing server.\n",
      "Killing tunnel 127.0.0.1:7860 <> https://4c906458fd2016fe54.gradio.live\n"
     ]
    },
    {
     "data": {
      "text/plain": []
     },
     "execution_count": 21,
     "metadata": {},
     "output_type": "execute_result"
    }
   ],
   "source": [
    "# launching the app\n",
    "app.launch(share=True,debug=True)"
   ]
  },
  {
   "cell_type": "code",
   "execution_count": null,
   "metadata": {},
   "outputs": [],
   "source": []
  }
 ],
 "metadata": {
  "kernelspec": {
   "display_name": "base",
   "language": "python",
   "name": "python3"
  },
  "language_info": {
   "codemirror_mode": {
    "name": "ipython",
    "version": 3
   },
   "file_extension": ".py",
   "mimetype": "text/x-python",
   "name": "python",
   "nbconvert_exporter": "python",
   "pygments_lexer": "ipython3",
   "version": "3.9.13"
  },
  "orig_nbformat": 4
 },
 "nbformat": 4,
 "nbformat_minor": 2
}
